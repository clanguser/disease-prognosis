{
  "cells": [
    {
      "cell_type": "markdown",
      "metadata": {
        "id": "view-in-github",
        "colab_type": "text"
      },
      "source": [
        "<a href=\"https://colab.research.google.com/github/clanguser/disease-prognosis/blob/main/diseasy.ipynb\" target=\"_parent\"><img src=\"https://colab.research.google.com/assets/colab-badge.svg\" alt=\"Open In Colab\"/></a>"
      ]
    },
    {
      "cell_type": "code",
      "execution_count": null,
      "metadata": {
        "id": "4bpOnBpMgYw7"
      },
      "outputs": [],
      "source": [
        "import pandas as pd\n",
        "import numpy as np\n",
        "import csv\n",
        "from sklearn.metrics import classification_report\n",
        "import warnings\n",
        "import warnings\n",
        "from sklearn.cluster import KMeans\n",
        "\n",
        "warnings.filterwarnings(\"ignore\", category=FutureWarning)"
      ]
    },
    {
      "cell_type": "code",
      "execution_count": null,
      "metadata": {
        "id": "KUeEIKwVgYw-"
      },
      "outputs": [],
      "source": [
        "# df_tr=pd.read_csv('D:/EDA dataset/training.csv')\n",
        "df_tr=pd.read_csv('training.csv')"
      ]
    },
    {
      "cell_type": "code",
      "execution_count": null,
      "metadata": {
        "colab": {
          "base_uri": "https://localhost:8080/",
          "height": 386
        },
        "id": "9MIkUJ6egYw-",
        "outputId": "dba5112f-c2cd-40ba-e84c-a89554040fb6"
      },
      "outputs": [
        {
          "output_type": "execute_result",
          "data": {
            "text/plain": [
              "   itching  skin_rash  nodal_skin_eruptions  continuous_sneezing  shivering  \\\n",
              "0        1          1                     1                    0          0   \n",
              "1        0          1                     1                    0          0   \n",
              "2        1          0                     1                    0          0   \n",
              "3        1          1                     0                    0          0   \n",
              "4        1          1                     1                    0          0   \n",
              "\n",
              "   chills  joint_pain  stomach_pain  acidity  ulcers_on_tongue  ...  \\\n",
              "0       0           0             0        0                 0  ...   \n",
              "1       0           0             0        0                 0  ...   \n",
              "2       0           0             0        0                 0  ...   \n",
              "3       0           0             0        0                 0  ...   \n",
              "4       0           0             0        0                 0  ...   \n",
              "\n",
              "   blackheads  scurring  skin_peeling  silver_like_dusting  \\\n",
              "0           0         0             0                    0   \n",
              "1           0         0             0                    0   \n",
              "2           0         0             0                    0   \n",
              "3           0         0             0                    0   \n",
              "4           0         0             0                    0   \n",
              "\n",
              "   small_dents_in_nails  inflammatory_nails  blister  red_sore_around_nose  \\\n",
              "0                     0                   0        0                     0   \n",
              "1                     0                   0        0                     0   \n",
              "2                     0                   0        0                     0   \n",
              "3                     0                   0        0                     0   \n",
              "4                     0                   0        0                     0   \n",
              "\n",
              "   yellow_crust_ooze         prognosis  \n",
              "0                  0  Fungal infection  \n",
              "1                  0  Fungal infection  \n",
              "2                  0  Fungal infection  \n",
              "3                  0  Fungal infection  \n",
              "4                  0  Fungal infection  \n",
              "\n",
              "[5 rows x 133 columns]"
            ],
            "text/html": [
              "\n",
              "  <div id=\"df-d8e5fe7a-26d2-4e30-985f-9553941cbc51\">\n",
              "    <div class=\"colab-df-container\">\n",
              "      <div>\n",
              "<style scoped>\n",
              "    .dataframe tbody tr th:only-of-type {\n",
              "        vertical-align: middle;\n",
              "    }\n",
              "\n",
              "    .dataframe tbody tr th {\n",
              "        vertical-align: top;\n",
              "    }\n",
              "\n",
              "    .dataframe thead th {\n",
              "        text-align: right;\n",
              "    }\n",
              "</style>\n",
              "<table border=\"1\" class=\"dataframe\">\n",
              "  <thead>\n",
              "    <tr style=\"text-align: right;\">\n",
              "      <th></th>\n",
              "      <th>itching</th>\n",
              "      <th>skin_rash</th>\n",
              "      <th>nodal_skin_eruptions</th>\n",
              "      <th>continuous_sneezing</th>\n",
              "      <th>shivering</th>\n",
              "      <th>chills</th>\n",
              "      <th>joint_pain</th>\n",
              "      <th>stomach_pain</th>\n",
              "      <th>acidity</th>\n",
              "      <th>ulcers_on_tongue</th>\n",
              "      <th>...</th>\n",
              "      <th>blackheads</th>\n",
              "      <th>scurring</th>\n",
              "      <th>skin_peeling</th>\n",
              "      <th>silver_like_dusting</th>\n",
              "      <th>small_dents_in_nails</th>\n",
              "      <th>inflammatory_nails</th>\n",
              "      <th>blister</th>\n",
              "      <th>red_sore_around_nose</th>\n",
              "      <th>yellow_crust_ooze</th>\n",
              "      <th>prognosis</th>\n",
              "    </tr>\n",
              "  </thead>\n",
              "  <tbody>\n",
              "    <tr>\n",
              "      <th>0</th>\n",
              "      <td>1</td>\n",
              "      <td>1</td>\n",
              "      <td>1</td>\n",
              "      <td>0</td>\n",
              "      <td>0</td>\n",
              "      <td>0</td>\n",
              "      <td>0</td>\n",
              "      <td>0</td>\n",
              "      <td>0</td>\n",
              "      <td>0</td>\n",
              "      <td>...</td>\n",
              "      <td>0</td>\n",
              "      <td>0</td>\n",
              "      <td>0</td>\n",
              "      <td>0</td>\n",
              "      <td>0</td>\n",
              "      <td>0</td>\n",
              "      <td>0</td>\n",
              "      <td>0</td>\n",
              "      <td>0</td>\n",
              "      <td>Fungal infection</td>\n",
              "    </tr>\n",
              "    <tr>\n",
              "      <th>1</th>\n",
              "      <td>0</td>\n",
              "      <td>1</td>\n",
              "      <td>1</td>\n",
              "      <td>0</td>\n",
              "      <td>0</td>\n",
              "      <td>0</td>\n",
              "      <td>0</td>\n",
              "      <td>0</td>\n",
              "      <td>0</td>\n",
              "      <td>0</td>\n",
              "      <td>...</td>\n",
              "      <td>0</td>\n",
              "      <td>0</td>\n",
              "      <td>0</td>\n",
              "      <td>0</td>\n",
              "      <td>0</td>\n",
              "      <td>0</td>\n",
              "      <td>0</td>\n",
              "      <td>0</td>\n",
              "      <td>0</td>\n",
              "      <td>Fungal infection</td>\n",
              "    </tr>\n",
              "    <tr>\n",
              "      <th>2</th>\n",
              "      <td>1</td>\n",
              "      <td>0</td>\n",
              "      <td>1</td>\n",
              "      <td>0</td>\n",
              "      <td>0</td>\n",
              "      <td>0</td>\n",
              "      <td>0</td>\n",
              "      <td>0</td>\n",
              "      <td>0</td>\n",
              "      <td>0</td>\n",
              "      <td>...</td>\n",
              "      <td>0</td>\n",
              "      <td>0</td>\n",
              "      <td>0</td>\n",
              "      <td>0</td>\n",
              "      <td>0</td>\n",
              "      <td>0</td>\n",
              "      <td>0</td>\n",
              "      <td>0</td>\n",
              "      <td>0</td>\n",
              "      <td>Fungal infection</td>\n",
              "    </tr>\n",
              "    <tr>\n",
              "      <th>3</th>\n",
              "      <td>1</td>\n",
              "      <td>1</td>\n",
              "      <td>0</td>\n",
              "      <td>0</td>\n",
              "      <td>0</td>\n",
              "      <td>0</td>\n",
              "      <td>0</td>\n",
              "      <td>0</td>\n",
              "      <td>0</td>\n",
              "      <td>0</td>\n",
              "      <td>...</td>\n",
              "      <td>0</td>\n",
              "      <td>0</td>\n",
              "      <td>0</td>\n",
              "      <td>0</td>\n",
              "      <td>0</td>\n",
              "      <td>0</td>\n",
              "      <td>0</td>\n",
              "      <td>0</td>\n",
              "      <td>0</td>\n",
              "      <td>Fungal infection</td>\n",
              "    </tr>\n",
              "    <tr>\n",
              "      <th>4</th>\n",
              "      <td>1</td>\n",
              "      <td>1</td>\n",
              "      <td>1</td>\n",
              "      <td>0</td>\n",
              "      <td>0</td>\n",
              "      <td>0</td>\n",
              "      <td>0</td>\n",
              "      <td>0</td>\n",
              "      <td>0</td>\n",
              "      <td>0</td>\n",
              "      <td>...</td>\n",
              "      <td>0</td>\n",
              "      <td>0</td>\n",
              "      <td>0</td>\n",
              "      <td>0</td>\n",
              "      <td>0</td>\n",
              "      <td>0</td>\n",
              "      <td>0</td>\n",
              "      <td>0</td>\n",
              "      <td>0</td>\n",
              "      <td>Fungal infection</td>\n",
              "    </tr>\n",
              "  </tbody>\n",
              "</table>\n",
              "<p>5 rows × 133 columns</p>\n",
              "</div>\n",
              "      <button class=\"colab-df-convert\" onclick=\"convertToInteractive('df-d8e5fe7a-26d2-4e30-985f-9553941cbc51')\"\n",
              "              title=\"Convert this dataframe to an interactive table.\"\n",
              "              style=\"display:none;\">\n",
              "        \n",
              "  <svg xmlns=\"http://www.w3.org/2000/svg\" height=\"24px\"viewBox=\"0 0 24 24\"\n",
              "       width=\"24px\">\n",
              "    <path d=\"M0 0h24v24H0V0z\" fill=\"none\"/>\n",
              "    <path d=\"M18.56 5.44l.94 2.06.94-2.06 2.06-.94-2.06-.94-.94-2.06-.94 2.06-2.06.94zm-11 1L8.5 8.5l.94-2.06 2.06-.94-2.06-.94L8.5 2.5l-.94 2.06-2.06.94zm10 10l.94 2.06.94-2.06 2.06-.94-2.06-.94-.94-2.06-.94 2.06-2.06.94z\"/><path d=\"M17.41 7.96l-1.37-1.37c-.4-.4-.92-.59-1.43-.59-.52 0-1.04.2-1.43.59L10.3 9.45l-7.72 7.72c-.78.78-.78 2.05 0 2.83L4 21.41c.39.39.9.59 1.41.59.51 0 1.02-.2 1.41-.59l7.78-7.78 2.81-2.81c.8-.78.8-2.07 0-2.86zM5.41 20L4 18.59l7.72-7.72 1.47 1.35L5.41 20z\"/>\n",
              "  </svg>\n",
              "      </button>\n",
              "      \n",
              "  <style>\n",
              "    .colab-df-container {\n",
              "      display:flex;\n",
              "      flex-wrap:wrap;\n",
              "      gap: 12px;\n",
              "    }\n",
              "\n",
              "    .colab-df-convert {\n",
              "      background-color: #E8F0FE;\n",
              "      border: none;\n",
              "      border-radius: 50%;\n",
              "      cursor: pointer;\n",
              "      display: none;\n",
              "      fill: #1967D2;\n",
              "      height: 32px;\n",
              "      padding: 0 0 0 0;\n",
              "      width: 32px;\n",
              "    }\n",
              "\n",
              "    .colab-df-convert:hover {\n",
              "      background-color: #E2EBFA;\n",
              "      box-shadow: 0px 1px 2px rgba(60, 64, 67, 0.3), 0px 1px 3px 1px rgba(60, 64, 67, 0.15);\n",
              "      fill: #174EA6;\n",
              "    }\n",
              "\n",
              "    [theme=dark] .colab-df-convert {\n",
              "      background-color: #3B4455;\n",
              "      fill: #D2E3FC;\n",
              "    }\n",
              "\n",
              "    [theme=dark] .colab-df-convert:hover {\n",
              "      background-color: #434B5C;\n",
              "      box-shadow: 0px 1px 3px 1px rgba(0, 0, 0, 0.15);\n",
              "      filter: drop-shadow(0px 1px 2px rgba(0, 0, 0, 0.3));\n",
              "      fill: #FFFFFF;\n",
              "    }\n",
              "  </style>\n",
              "\n",
              "      <script>\n",
              "        const buttonEl =\n",
              "          document.querySelector('#df-d8e5fe7a-26d2-4e30-985f-9553941cbc51 button.colab-df-convert');\n",
              "        buttonEl.style.display =\n",
              "          google.colab.kernel.accessAllowed ? 'block' : 'none';\n",
              "\n",
              "        async function convertToInteractive(key) {\n",
              "          const element = document.querySelector('#df-d8e5fe7a-26d2-4e30-985f-9553941cbc51');\n",
              "          const dataTable =\n",
              "            await google.colab.kernel.invokeFunction('convertToInteractive',\n",
              "                                                     [key], {});\n",
              "          if (!dataTable) return;\n",
              "\n",
              "          const docLinkHtml = 'Like what you see? Visit the ' +\n",
              "            '<a target=\"_blank\" href=https://colab.research.google.com/notebooks/data_table.ipynb>data table notebook</a>'\n",
              "            + ' to learn more about interactive tables.';\n",
              "          element.innerHTML = '';\n",
              "          dataTable['output_type'] = 'display_data';\n",
              "          await google.colab.output.renderOutput(dataTable, element);\n",
              "          const docLink = document.createElement('div');\n",
              "          docLink.innerHTML = docLinkHtml;\n",
              "          element.appendChild(docLink);\n",
              "        }\n",
              "      </script>\n",
              "    </div>\n",
              "  </div>\n",
              "  "
            ]
          },
          "metadata": {},
          "execution_count": 3
        }
      ],
      "source": [
        "df_tr.head()"
      ]
    },
    {
      "cell_type": "code",
      "execution_count": null,
      "metadata": {
        "colab": {
          "base_uri": "https://localhost:8080/"
        },
        "id": "3vYmgNMzgYw_",
        "outputId": "44d9254c-a85e-4ec5-d7c7-7b65f76cb9a5"
      },
      "outputs": [
        {
          "output_type": "execute_result",
          "data": {
            "text/plain": [
              "(4920, 133)"
            ]
          },
          "metadata": {},
          "execution_count": 4
        }
      ],
      "source": [
        "df_tr.shape"
      ]
    },
    {
      "cell_type": "code",
      "source": [
        "num_diseases=len(df_tr['prognosis'].unique())\n",
        "print(\"Number of unique diseases:\", num_diseases)\n",
        "num_symptoms=df_tr.shape[1]-1\n",
        "print(\"Number of symptoms:\", num_symptoms)"
      ],
      "metadata": {
        "colab": {
          "base_uri": "https://localhost:8080/"
        },
        "id": "FH8wET5VsuEB",
        "outputId": "05f9b816-1c24-42a5-98ba-597e0b60a01c"
      },
      "execution_count": null,
      "outputs": [
        {
          "output_type": "stream",
          "name": "stdout",
          "text": [
            "Number of unique diseases: 41\n",
            "Number of symptoms: 132\n"
          ]
        }
      ]
    },
    {
      "cell_type": "code",
      "execution_count": null,
      "metadata": {
        "colab": {
          "base_uri": "https://localhost:8080/"
        },
        "id": "dRQ5t64TgYw_",
        "outputId": "c1ea54cd-cca3-4ee1-8da7-9df007c7e900"
      },
      "outputs": [
        {
          "output_type": "execute_result",
          "data": {
            "text/plain": [
              "itching                        0\n",
              "skin_rash                      1\n",
              "nodal_skin_eruptions           0\n",
              "continuous_sneezing            0\n",
              "shivering                      0\n",
              "                          ...   \n",
              "inflammatory_nails             0\n",
              "blister                        1\n",
              "red_sore_around_nose           1\n",
              "yellow_crust_ooze              1\n",
              "prognosis               Impetigo\n",
              "Name: 4919, Length: 133, dtype: object"
            ]
          },
          "metadata": {},
          "execution_count": 5
        }
      ],
      "source": [
        "df_tr.iloc[-1]"
      ]
    },
    {
      "cell_type": "code",
      "execution_count": null,
      "metadata": {
        "id": "eEtHap0zgYw_"
      },
      "outputs": [],
      "source": [
        "# df_tt=pd.read_csv('D:/EDA dataset/testing.csv ')\n",
        "df_tt=pd.read_csv('testing.csv')"
      ]
    },
    {
      "cell_type": "code",
      "execution_count": null,
      "metadata": {
        "colab": {
          "base_uri": "https://localhost:8080/",
          "height": 351
        },
        "id": "Uq2N6ZqRgYw_",
        "outputId": "dac834de-4acb-4e26-969a-08edf05579d9"
      },
      "outputs": [
        {
          "output_type": "execute_result",
          "data": {
            "text/plain": [
              "   itching  skin_rash  nodal_skin_eruptions  continuous_sneezing  shivering  \\\n",
              "0        1          1                     1                    0          0   \n",
              "1        0          0                     0                    1          1   \n",
              "2        0          0                     0                    0          0   \n",
              "3        1          0                     0                    0          0   \n",
              "4        1          1                     0                    0          0   \n",
              "\n",
              "   chills  joint_pain  stomach_pain  acidity  ulcers_on_tongue  ...  \\\n",
              "0       0           0             0        0                 0  ...   \n",
              "1       1           0             0        0                 0  ...   \n",
              "2       0           0             1        1                 1  ...   \n",
              "3       0           0             0        0                 0  ...   \n",
              "4       0           0             1        0                 0  ...   \n",
              "\n",
              "   blackheads  scurring  skin_peeling  silver_like_dusting  \\\n",
              "0           0         0             0                    0   \n",
              "1           0         0             0                    0   \n",
              "2           0         0             0                    0   \n",
              "3           0         0             0                    0   \n",
              "4           0         0             0                    0   \n",
              "\n",
              "   small_dents_in_nails  inflammatory_nails  blister  red_sore_around_nose  \\\n",
              "0                     0                   0        0                     0   \n",
              "1                     0                   0        0                     0   \n",
              "2                     0                   0        0                     0   \n",
              "3                     0                   0        0                     0   \n",
              "4                     0                   0        0                     0   \n",
              "\n",
              "   yellow_crust_ooze            prognosis  \n",
              "0                  0     Fungal infection  \n",
              "1                  0              Allergy  \n",
              "2                  0                 GERD  \n",
              "3                  0  Chronic cholestasis  \n",
              "4                  0        Drug Reaction  \n",
              "\n",
              "[5 rows x 133 columns]"
            ],
            "text/html": [
              "\n",
              "  <div id=\"df-0ffdc528-eec9-4740-98dc-d98408d7822c\">\n",
              "    <div class=\"colab-df-container\">\n",
              "      <div>\n",
              "<style scoped>\n",
              "    .dataframe tbody tr th:only-of-type {\n",
              "        vertical-align: middle;\n",
              "    }\n",
              "\n",
              "    .dataframe tbody tr th {\n",
              "        vertical-align: top;\n",
              "    }\n",
              "\n",
              "    .dataframe thead th {\n",
              "        text-align: right;\n",
              "    }\n",
              "</style>\n",
              "<table border=\"1\" class=\"dataframe\">\n",
              "  <thead>\n",
              "    <tr style=\"text-align: right;\">\n",
              "      <th></th>\n",
              "      <th>itching</th>\n",
              "      <th>skin_rash</th>\n",
              "      <th>nodal_skin_eruptions</th>\n",
              "      <th>continuous_sneezing</th>\n",
              "      <th>shivering</th>\n",
              "      <th>chills</th>\n",
              "      <th>joint_pain</th>\n",
              "      <th>stomach_pain</th>\n",
              "      <th>acidity</th>\n",
              "      <th>ulcers_on_tongue</th>\n",
              "      <th>...</th>\n",
              "      <th>blackheads</th>\n",
              "      <th>scurring</th>\n",
              "      <th>skin_peeling</th>\n",
              "      <th>silver_like_dusting</th>\n",
              "      <th>small_dents_in_nails</th>\n",
              "      <th>inflammatory_nails</th>\n",
              "      <th>blister</th>\n",
              "      <th>red_sore_around_nose</th>\n",
              "      <th>yellow_crust_ooze</th>\n",
              "      <th>prognosis</th>\n",
              "    </tr>\n",
              "  </thead>\n",
              "  <tbody>\n",
              "    <tr>\n",
              "      <th>0</th>\n",
              "      <td>1</td>\n",
              "      <td>1</td>\n",
              "      <td>1</td>\n",
              "      <td>0</td>\n",
              "      <td>0</td>\n",
              "      <td>0</td>\n",
              "      <td>0</td>\n",
              "      <td>0</td>\n",
              "      <td>0</td>\n",
              "      <td>0</td>\n",
              "      <td>...</td>\n",
              "      <td>0</td>\n",
              "      <td>0</td>\n",
              "      <td>0</td>\n",
              "      <td>0</td>\n",
              "      <td>0</td>\n",
              "      <td>0</td>\n",
              "      <td>0</td>\n",
              "      <td>0</td>\n",
              "      <td>0</td>\n",
              "      <td>Fungal infection</td>\n",
              "    </tr>\n",
              "    <tr>\n",
              "      <th>1</th>\n",
              "      <td>0</td>\n",
              "      <td>0</td>\n",
              "      <td>0</td>\n",
              "      <td>1</td>\n",
              "      <td>1</td>\n",
              "      <td>1</td>\n",
              "      <td>0</td>\n",
              "      <td>0</td>\n",
              "      <td>0</td>\n",
              "      <td>0</td>\n",
              "      <td>...</td>\n",
              "      <td>0</td>\n",
              "      <td>0</td>\n",
              "      <td>0</td>\n",
              "      <td>0</td>\n",
              "      <td>0</td>\n",
              "      <td>0</td>\n",
              "      <td>0</td>\n",
              "      <td>0</td>\n",
              "      <td>0</td>\n",
              "      <td>Allergy</td>\n",
              "    </tr>\n",
              "    <tr>\n",
              "      <th>2</th>\n",
              "      <td>0</td>\n",
              "      <td>0</td>\n",
              "      <td>0</td>\n",
              "      <td>0</td>\n",
              "      <td>0</td>\n",
              "      <td>0</td>\n",
              "      <td>0</td>\n",
              "      <td>1</td>\n",
              "      <td>1</td>\n",
              "      <td>1</td>\n",
              "      <td>...</td>\n",
              "      <td>0</td>\n",
              "      <td>0</td>\n",
              "      <td>0</td>\n",
              "      <td>0</td>\n",
              "      <td>0</td>\n",
              "      <td>0</td>\n",
              "      <td>0</td>\n",
              "      <td>0</td>\n",
              "      <td>0</td>\n",
              "      <td>GERD</td>\n",
              "    </tr>\n",
              "    <tr>\n",
              "      <th>3</th>\n",
              "      <td>1</td>\n",
              "      <td>0</td>\n",
              "      <td>0</td>\n",
              "      <td>0</td>\n",
              "      <td>0</td>\n",
              "      <td>0</td>\n",
              "      <td>0</td>\n",
              "      <td>0</td>\n",
              "      <td>0</td>\n",
              "      <td>0</td>\n",
              "      <td>...</td>\n",
              "      <td>0</td>\n",
              "      <td>0</td>\n",
              "      <td>0</td>\n",
              "      <td>0</td>\n",
              "      <td>0</td>\n",
              "      <td>0</td>\n",
              "      <td>0</td>\n",
              "      <td>0</td>\n",
              "      <td>0</td>\n",
              "      <td>Chronic cholestasis</td>\n",
              "    </tr>\n",
              "    <tr>\n",
              "      <th>4</th>\n",
              "      <td>1</td>\n",
              "      <td>1</td>\n",
              "      <td>0</td>\n",
              "      <td>0</td>\n",
              "      <td>0</td>\n",
              "      <td>0</td>\n",
              "      <td>0</td>\n",
              "      <td>1</td>\n",
              "      <td>0</td>\n",
              "      <td>0</td>\n",
              "      <td>...</td>\n",
              "      <td>0</td>\n",
              "      <td>0</td>\n",
              "      <td>0</td>\n",
              "      <td>0</td>\n",
              "      <td>0</td>\n",
              "      <td>0</td>\n",
              "      <td>0</td>\n",
              "      <td>0</td>\n",
              "      <td>0</td>\n",
              "      <td>Drug Reaction</td>\n",
              "    </tr>\n",
              "  </tbody>\n",
              "</table>\n",
              "<p>5 rows × 133 columns</p>\n",
              "</div>\n",
              "      <button class=\"colab-df-convert\" onclick=\"convertToInteractive('df-0ffdc528-eec9-4740-98dc-d98408d7822c')\"\n",
              "              title=\"Convert this dataframe to an interactive table.\"\n",
              "              style=\"display:none;\">\n",
              "        \n",
              "  <svg xmlns=\"http://www.w3.org/2000/svg\" height=\"24px\"viewBox=\"0 0 24 24\"\n",
              "       width=\"24px\">\n",
              "    <path d=\"M0 0h24v24H0V0z\" fill=\"none\"/>\n",
              "    <path d=\"M18.56 5.44l.94 2.06.94-2.06 2.06-.94-2.06-.94-.94-2.06-.94 2.06-2.06.94zm-11 1L8.5 8.5l.94-2.06 2.06-.94-2.06-.94L8.5 2.5l-.94 2.06-2.06.94zm10 10l.94 2.06.94-2.06 2.06-.94-2.06-.94-.94-2.06-.94 2.06-2.06.94z\"/><path d=\"M17.41 7.96l-1.37-1.37c-.4-.4-.92-.59-1.43-.59-.52 0-1.04.2-1.43.59L10.3 9.45l-7.72 7.72c-.78.78-.78 2.05 0 2.83L4 21.41c.39.39.9.59 1.41.59.51 0 1.02-.2 1.41-.59l7.78-7.78 2.81-2.81c.8-.78.8-2.07 0-2.86zM5.41 20L4 18.59l7.72-7.72 1.47 1.35L5.41 20z\"/>\n",
              "  </svg>\n",
              "      </button>\n",
              "      \n",
              "  <style>\n",
              "    .colab-df-container {\n",
              "      display:flex;\n",
              "      flex-wrap:wrap;\n",
              "      gap: 12px;\n",
              "    }\n",
              "\n",
              "    .colab-df-convert {\n",
              "      background-color: #E8F0FE;\n",
              "      border: none;\n",
              "      border-radius: 50%;\n",
              "      cursor: pointer;\n",
              "      display: none;\n",
              "      fill: #1967D2;\n",
              "      height: 32px;\n",
              "      padding: 0 0 0 0;\n",
              "      width: 32px;\n",
              "    }\n",
              "\n",
              "    .colab-df-convert:hover {\n",
              "      background-color: #E2EBFA;\n",
              "      box-shadow: 0px 1px 2px rgba(60, 64, 67, 0.3), 0px 1px 3px 1px rgba(60, 64, 67, 0.15);\n",
              "      fill: #174EA6;\n",
              "    }\n",
              "\n",
              "    [theme=dark] .colab-df-convert {\n",
              "      background-color: #3B4455;\n",
              "      fill: #D2E3FC;\n",
              "    }\n",
              "\n",
              "    [theme=dark] .colab-df-convert:hover {\n",
              "      background-color: #434B5C;\n",
              "      box-shadow: 0px 1px 3px 1px rgba(0, 0, 0, 0.15);\n",
              "      filter: drop-shadow(0px 1px 2px rgba(0, 0, 0, 0.3));\n",
              "      fill: #FFFFFF;\n",
              "    }\n",
              "  </style>\n",
              "\n",
              "      <script>\n",
              "        const buttonEl =\n",
              "          document.querySelector('#df-0ffdc528-eec9-4740-98dc-d98408d7822c button.colab-df-convert');\n",
              "        buttonEl.style.display =\n",
              "          google.colab.kernel.accessAllowed ? 'block' : 'none';\n",
              "\n",
              "        async function convertToInteractive(key) {\n",
              "          const element = document.querySelector('#df-0ffdc528-eec9-4740-98dc-d98408d7822c');\n",
              "          const dataTable =\n",
              "            await google.colab.kernel.invokeFunction('convertToInteractive',\n",
              "                                                     [key], {});\n",
              "          if (!dataTable) return;\n",
              "\n",
              "          const docLinkHtml = 'Like what you see? Visit the ' +\n",
              "            '<a target=\"_blank\" href=https://colab.research.google.com/notebooks/data_table.ipynb>data table notebook</a>'\n",
              "            + ' to learn more about interactive tables.';\n",
              "          element.innerHTML = '';\n",
              "          dataTable['output_type'] = 'display_data';\n",
              "          await google.colab.output.renderOutput(dataTable, element);\n",
              "          const docLink = document.createElement('div');\n",
              "          docLink.innerHTML = docLinkHtml;\n",
              "          element.appendChild(docLink);\n",
              "        }\n",
              "      </script>\n",
              "    </div>\n",
              "  </div>\n",
              "  "
            ]
          },
          "metadata": {},
          "execution_count": 7
        }
      ],
      "source": [
        "df_tt.head()"
      ]
    },
    {
      "cell_type": "code",
      "execution_count": null,
      "metadata": {
        "id": "rUxMG-upgYw_"
      },
      "outputs": [],
      "source": [
        "symp=[]\n",
        "disease=[]\n",
        "for i in range(len(df_tr)):\n",
        "    symp.append(df_tr.columns[df_tr.iloc[i]==1].to_list())\n",
        "    disease.append(df_tr.iloc[i,-1])"
      ]
    },
    {
      "cell_type": "code",
      "execution_count": null,
      "metadata": {
        "colab": {
          "base_uri": "https://localhost:8080/"
        },
        "id": "cX_fa8_hgYw_",
        "outputId": "c221502f-066e-4ed6-fd2b-19690975371e"
      },
      "outputs": [
        {
          "output_type": "execute_result",
          "data": {
            "text/plain": [
              "['itching', 'skin_rash', 'nodal_skin_eruptions', 'dischromic _patches']"
            ]
          },
          "metadata": {},
          "execution_count": 9
        }
      ],
      "source": [
        "symp[0]"
      ]
    },
    {
      "cell_type": "code",
      "execution_count": null,
      "metadata": {
        "colab": {
          "base_uri": "https://localhost:8080/"
        },
        "id": "RpjEh4nKgYxA",
        "outputId": "c10fca1b-26f0-4b9c-c310-1974b6de60fb"
      },
      "outputs": [
        {
          "output_type": "execute_result",
          "data": {
            "text/plain": [
              "'Peptic ulcer diseae'"
            ],
            "application/vnd.google.colaboratory.intrinsic+json": {
              "type": "string"
            }
          },
          "metadata": {},
          "execution_count": 10
        }
      ],
      "source": [
        "disease[50]"
      ]
    },
    {
      "cell_type": "markdown",
      "metadata": {
        "id": "x2fsxK2SgYxA"
      },
      "source": [
        "# I- GET ALL SYMPTOMS"
      ]
    },
    {
      "cell_type": "code",
      "execution_count": null,
      "metadata": {
        "id": "ltdpbUM-gYxA"
      },
      "outputs": [],
      "source": [
        "all_symp_col=list(df_tr.columns[:-1])\n",
        "def clean_symp(sym):\n",
        "    return sym.replace('_',' ').replace('.1','').replace('(typhos)','').replace('yellowish','yellow').replace('yellowing','yellow') "
      ]
    },
    {
      "cell_type": "code",
      "execution_count": null,
      "metadata": {
        "id": "SoTkF-ihgYxB"
      },
      "outputs": [],
      "source": [
        "all_symp=[clean_symp(sym) for sym in (all_symp_col)]"
      ]
    },
    {
      "cell_type": "code",
      "source": [
        "import nltk\n",
        "nltk.download('wordnet')"
      ],
      "metadata": {
        "colab": {
          "base_uri": "https://localhost:8080/"
        },
        "id": "ySi_NtbB0Wck",
        "outputId": "0b33fb82-d671-4d69-d2da-a8ee9f143959"
      },
      "execution_count": null,
      "outputs": [
        {
          "output_type": "stream",
          "name": "stderr",
          "text": [
            "[nltk_data] Downloading package wordnet to /root/nltk_data...\n"
          ]
        },
        {
          "output_type": "execute_result",
          "data": {
            "text/plain": [
              "True"
            ]
          },
          "metadata": {},
          "execution_count": 13
        }
      ]
    },
    {
      "cell_type": "code",
      "source": [
        "from nltk.corpus import wordnet as wn"
      ],
      "metadata": {
        "id": "RiOtt_MVvIIy"
      },
      "execution_count": null,
      "outputs": []
    },
    {
      "cell_type": "code",
      "execution_count": null,
      "metadata": {
        "id": "fjwZ4UYmgYxB"
      },
      "outputs": [],
      "source": [
        "## get all symptoms which do not have a synset\n",
        "ohne_syns=[]\n",
        "mit_syns=[]\n",
        "for sym in all_symp:\n",
        "    if not wn.synsets(sym) :\n",
        "        ohne_syns.append(sym)\n",
        "    else:\n",
        "        mit_syns.append(sym)"
      ]
    },
    {
      "cell_type": "code",
      "execution_count": null,
      "metadata": {
        "colab": {
          "base_uri": "https://localhost:8080/"
        },
        "id": "71VQpLoBgYxB",
        "outputId": "fe83a16f-517a-4ed7-e4b6-b8730f7469ac"
      },
      "outputs": [
        {
          "output_type": "execute_result",
          "data": {
            "text/plain": [
              "33"
            ]
          },
          "metadata": {},
          "execution_count": 16
        }
      ],
      "source": [
        "len(mit_syns)"
      ]
    },
    {
      "cell_type": "code",
      "execution_count": null,
      "metadata": {
        "colab": {
          "base_uri": "https://localhost:8080/"
        },
        "id": "NhuKqjpXgYxC",
        "outputId": "5976af09-e92d-4ed4-fb5d-19a8b3075184"
      },
      "outputs": [
        {
          "output_type": "execute_result",
          "data": {
            "text/plain": [
              "99"
            ]
          },
          "metadata": {},
          "execution_count": 17
        }
      ],
      "source": [
        "len(ohne_syns)"
      ]
    },
    {
      "cell_type": "markdown",
      "metadata": {
        "id": "CsKULFfjgYxC"
      },
      "source": [
        "# II- Preprocess text"
      ]
    },
    {
      "cell_type": "code",
      "execution_count": null,
      "metadata": {
        "id": "XiYm2NXegYxC"
      },
      "outputs": [],
      "source": [
        "from spacy.lang.en.stop_words import STOP_WORDS\n",
        "import spacy\n",
        "nlp = spacy.load('en_core_web_sm')"
      ]
    },
    {
      "cell_type": "code",
      "execution_count": null,
      "metadata": {
        "id": "MugiXhC2gYxC"
      },
      "outputs": [],
      "source": [
        "def preprocess(doc):\n",
        "    nlp_doc=nlp(doc)\n",
        "    d=[]\n",
        "    for token in nlp_doc:\n",
        "        if(not token.text.lower()  in STOP_WORDS and  token.text.isalpha()):\n",
        "            d.append(token.lemma_.lower() )\n",
        "    return ' '.join(d)"
      ]
    },
    {
      "cell_type": "code",
      "execution_count": null,
      "metadata": {
        "id": "42hcFEKGgYxD"
      },
      "outputs": [],
      "source": [
        "def preprocess_sym(doc):\n",
        "    nlp_doc=nlp(doc)\n",
        "    d=[]\n",
        "    for token in nlp_doc:\n",
        "        if(not token.text.lower()  in STOP_WORDS and  token.text.isalpha()):\n",
        "            d.append(token.lemma_.lower() )\n",
        "    return ' '.join(d)"
      ]
    },
    {
      "cell_type": "code",
      "execution_count": null,
      "metadata": {
        "colab": {
          "base_uri": "https://localhost:8080/"
        },
        "id": "x214h6z5gYxD",
        "outputId": "6164d9b8-9b2f-440b-e876-9b25bc3a5e93"
      },
      "outputs": [
        {
          "output_type": "execute_result",
          "data": {
            "text/plain": [
              "'skin peel'"
            ],
            "application/vnd.google.colaboratory.intrinsic+json": {
              "type": "string"
            }
          },
          "metadata": {},
          "execution_count": 21
        }
      ],
      "source": [
        "preprocess(\"skin peeling\")"
      ]
    },
    {
      "cell_type": "code",
      "execution_count": null,
      "metadata": {
        "id": "N3Auxyr7gYxD"
      },
      "outputs": [],
      "source": [
        "all_symp_pr=[preprocess_sym(sym) for sym in all_symp]"
      ]
    },
    {
      "cell_type": "code",
      "execution_count": null,
      "metadata": {
        "id": "C1fK_vV4gYxD"
      },
      "outputs": [],
      "source": [
        "#associe chaque symp pretraite au non de sa colonne originale\n",
        "col_dict = dict(zip(all_symp_pr, all_symp_col))"
      ]
    },
    {
      "cell_type": "markdown",
      "metadata": {
        "id": "8Nk3TSNNgYxD"
      },
      "source": [
        "# III- Syntactic Similarity\n",
        "\n"
      ]
    },
    {
      "cell_type": "code",
      "execution_count": null,
      "metadata": {
        "id": "ZkywR6O2gYxE"
      },
      "outputs": [],
      "source": [
        "def jaccard_set(str1, str2):\n",
        "    list1=str1.split(' ')\n",
        "    list2=str2.split(' ')\n",
        "    intersection = len(list(set(list1).intersection(list2)))\n",
        "    union = (len(list1) + len(list2)) - intersection\n",
        "    return float(intersection) / union"
      ]
    },
    {
      "cell_type": "code",
      "execution_count": null,
      "metadata": {
        "id": "4YuVhNSDgYxE"
      },
      "outputs": [],
      "source": [
        "#symp similarity with all the corpus\n",
        "def syntactic_similarity(symp_t, corpus):\n",
        "    most_sim = []\n",
        "    poss_sym = []\n",
        "    for symp in corpus:\n",
        "        d = jaccard_set(symp_t, symp)\n",
        "        most_sim.append(d)\n",
        "    order = np.argsort(most_sim)[::-1].tolist()\n",
        "    for i in order:\n",
        "        if DoesExist(symp_t):\n",
        "            return 1, [corpus[i]]\n",
        "        if corpus[i] not in poss_sym and most_sim[i] != 0:\n",
        "            poss_sym.append(corpus[i])\n",
        "    if len(poss_sym):\n",
        "        return 1, poss_sym\n",
        "    else:\n",
        "        return 0, None\n",
        "\n"
      ]
    },
    {
      "cell_type": "code",
      "execution_count": null,
      "metadata": {
        "id": "WASEKpPZgYxE"
      },
      "outputs": [],
      "source": [
        "import itertools\n",
        "#Returns all the subsets of this set. This is a generator.\n",
        "def powerset(seq):\n",
        "    if len(seq) <= 1:\n",
        "        yield seq\n",
        "        yield []\n",
        "    else:\n",
        "        for item in powerset(seq[1:]):\n",
        "            yield [seq[0]]+item\n",
        "            yield item"
      ]
    },
    {
      "cell_type": "code",
      "execution_count": null,
      "metadata": {
        "id": "2OHVBCWEgYxE"
      },
      "outputs": [],
      "source": [
        "#Sort list based on length\n",
        "def sort(a):\n",
        "    for i in range(len(a)):\n",
        "        for j in range(i+1,len(a)):\n",
        "            if len(a[j])>len(a[i]):\n",
        "                a[i],a[j]=a[j],a[i]\n",
        "    a.pop()\n",
        "    return a"
      ]
    },
    {
      "cell_type": "code",
      "execution_count": null,
      "metadata": {
        "id": "vl9SE_WggYxE"
      },
      "outputs": [],
      "source": [
        "# find all permutations of a list\n",
        "def permutations(s):\n",
        "    permutations = list(itertools.permutations(s))\n",
        "    return([' '.join(permutation) for permutation in permutations])"
      ]
    },
    {
      "cell_type": "code",
      "execution_count": null,
      "metadata": {
        "id": "5lARr0fIgYxF"
      },
      "outputs": [],
      "source": [
        "def DoesExist(txt):\n",
        "    txt=txt.split(' ')\n",
        "    combinations = [x for x in powerset(txt)]\n",
        "    sort(combinations)\n",
        "    for comb in combinations :\n",
        "        #print(permutations(comb))\n",
        "        for sym in permutations(comb):\n",
        "            if sym in all_symp_pr:\n",
        "                #print(sym)\n",
        "                return sym\n",
        "    return False\n",
        "    "
      ]
    },
    {
      "cell_type": "code",
      "execution_count": null,
      "metadata": {
        "colab": {
          "base_uri": "https://localhost:8080/"
        },
        "id": "hRBopwttgYxF",
        "outputId": "530eddbf-f808-4c31-ab7e-2a2f644adbdb"
      },
      "outputs": [
        {
          "output_type": "execute_result",
          "data": {
            "text/plain": [
              "False"
            ]
          },
          "metadata": {},
          "execution_count": 30
        }
      ],
      "source": [
        "DoesExist('worried')"
      ]
    },
    {
      "cell_type": "code",
      "execution_count": null,
      "metadata": {
        "colab": {
          "base_uri": "https://localhost:8080/"
        },
        "id": "NtfnOurcgYxF",
        "outputId": "267ccfc3-2cdf-4e22-8cf0-865287f152f4"
      },
      "outputs": [
        {
          "output_type": "execute_result",
          "data": {
            "text/plain": [
              "'worried'"
            ],
            "application/vnd.google.colaboratory.intrinsic+json": {
              "type": "string"
            }
          },
          "metadata": {},
          "execution_count": 31
        }
      ],
      "source": [
        "preprocess('really worried')"
      ]
    },
    {
      "cell_type": "code",
      "execution_count": null,
      "metadata": {
        "colab": {
          "base_uri": "https://localhost:8080/"
        },
        "id": "7B1ghR0igYxF",
        "outputId": "e4729af9-d29f-4368-dffe-e04bed1bbd8f"
      },
      "outputs": [
        {
          "output_type": "execute_result",
          "data": {
            "text/plain": [
              "(0, None)"
            ]
          },
          "metadata": {},
          "execution_count": 32
        }
      ],
      "source": [
        "syntactic_similarity(preprocess('nervous') ,all_symp_pr)"
      ]
    },
    {
      "cell_type": "code",
      "execution_count": null,
      "metadata": {
        "id": "_mzYps2hgYxF"
      },
      "outputs": [],
      "source": [
        "def check_pattern(inp,dis_list):\n",
        "    import re\n",
        "    pred_list=[]\n",
        "    ptr=0\n",
        "    patt = \"^\" + inp + \"$\"\n",
        "    regexp = re.compile(inp)\n",
        "    for item in dis_list:\n",
        "        if regexp.search(item):\n",
        "            pred_list.append(item)\n",
        "    if(len(pred_list)>0):\n",
        "        return 1,pred_list\n",
        "    else:\n",
        "        return ptr,None"
      ]
    },
    {
      "cell_type": "code",
      "execution_count": null,
      "metadata": {
        "colab": {
          "base_uri": "https://localhost:8080/"
        },
        "id": "rcYK0voxgYxF",
        "outputId": "615e9e40-a462-4d7f-9dac-76aaaa06fc84"
      },
      "outputs": [
        {
          "output_type": "execute_result",
          "data": {
            "text/plain": [
              "(1, ['brittle nail', 'small dent nail', 'inflammatory nail'])"
            ]
          },
          "metadata": {},
          "execution_count": 34
        }
      ],
      "source": [
        "check_pattern('nail',all_symp_pr)"
      ]
    },
    {
      "cell_type": "markdown",
      "metadata": {
        "id": "tWdJLHT-gYxG"
      },
      "source": [
        "# IV- Semantic Similarity"
      ]
    },
    {
      "cell_type": "code",
      "execution_count": null,
      "metadata": {
        "id": "nDXY-4Z-gYxG"
      },
      "outputs": [],
      "source": [
        "from nltk.wsd import lesk\n",
        "from nltk.tokenize import word_tokenize\n",
        "def WSD(word, context):\n",
        "    sens=lesk(context, word)\n",
        "    return sens"
      ]
    },
    {
      "cell_type": "code",
      "execution_count": null,
      "metadata": {
        "id": "NGJce-1CgYxG"
      },
      "outputs": [],
      "source": [
        "def semanticD(doc1,doc2):\n",
        "    doc1_p=preprocess(doc1).split(' ')\n",
        "    doc2_p=preprocess_sym(doc2).split(' ')\n",
        "    score=0\n",
        "    for tock1 in doc1_p:\n",
        "        for tock2 in doc2_p:\n",
        "            syn1 = WSD(tock1,doc1)\n",
        "            syn2 = WSD(tock2,doc2)\n",
        "            #syn1=wn.synset(t)\n",
        "            if syn1 is not None and syn2 is not None :\n",
        "                x=syn1.wup_similarity(syn2)\n",
        "                if x is not None and x>0.1:\n",
        "                    score+=x\n",
        "    return score/(len(doc1_p)*len(doc2_p))"
      ]
    },
    {
      "cell_type": "code",
      "execution_count": null,
      "metadata": {
        "colab": {
          "base_uri": "https://localhost:8080/"
        },
        "id": "rii8MSnVgYxG",
        "outputId": "4ffd1631-23a3-4cd6-ec29-a1f77a009b21"
      },
      "outputs": [
        {
          "output_type": "execute_result",
          "data": {
            "text/plain": [
              "0.2"
            ]
          },
          "metadata": {},
          "execution_count": 37
        }
      ],
      "source": [
        "semanticD('anxiety','nervous')"
      ]
    },
    {
      "cell_type": "code",
      "execution_count": null,
      "metadata": {
        "colab": {
          "base_uri": "https://localhost:8080/"
        },
        "id": "CxMdUPm-gYxG",
        "outputId": "70041dcf-6083-46ee-9f76-fbeb9776e433"
      },
      "outputs": [
        {
          "output_type": "execute_result",
          "data": {
            "text/plain": [
              "'(psychiatry) a relatively permanent state of worry and nervousness occurring in a variety of mental disorders, usually accompanied by compulsive behavior or attacks of panic'"
            ],
            "application/vnd.google.colaboratory.intrinsic+json": {
              "type": "string"
            }
          },
          "metadata": {},
          "execution_count": 38
        }
      ],
      "source": [
        "syna=wn.synsets('anxiety')\n",
        "syna[0].definition()"
      ]
    },
    {
      "cell_type": "code",
      "execution_count": null,
      "metadata": {
        "colab": {
          "base_uri": "https://localhost:8080/"
        },
        "id": "fx47UI_0gYxG",
        "outputId": "bc30b6ad-6f0c-4961-ec5a-8590b3624974"
      },
      "outputs": [
        {
          "output_type": "execute_result",
          "data": {
            "text/plain": [
              "'easily agitated'"
            ],
            "application/vnd.google.colaboratory.intrinsic+json": {
              "type": "string"
            }
          },
          "metadata": {},
          "execution_count": 39
        }
      ],
      "source": [
        "synn=wn.synsets('nervous')\n",
        "synn[0].definition()\n"
      ]
    },
    {
      "cell_type": "code",
      "execution_count": null,
      "metadata": {
        "colab": {
          "base_uri": "https://localhost:8080/"
        },
        "id": "MKopEwkEgYxH",
        "outputId": "66e51bb6-85d6-4520-fc22-7f2799d59106"
      },
      "outputs": [
        {
          "output_type": "execute_result",
          "data": {
            "text/plain": [
              "0.2"
            ]
          },
          "metadata": {},
          "execution_count": 40
        }
      ],
      "source": [
        "synn[0].wup_similarity(syna[0])"
      ]
    },
    {
      "cell_type": "code",
      "execution_count": null,
      "metadata": {
        "colab": {
          "base_uri": "https://localhost:8080/",
          "height": 176
        },
        "id": "aScMjO5CgYxH",
        "outputId": "ba0d6268-a11d-4554-eb97-66de8ef511d1"
      },
      "outputs": [
        {
          "output_type": "execute_result",
          "data": {
            "text/plain": [
              "            0         1         2         3         4         5         6   \\\n",
              "path  0.083333  0.083333  0.083333  0.083333  0.083333  0.333333  0.333333   \n",
              "wup   0.153846  0.153846  0.153846  0.153846  0.153846  0.500000  0.500000   \n",
              "\n",
              "            7         8         9         10        11        12        13  \\\n",
              "path  0.333333  0.333333  0.333333  0.333333  0.333333  0.333333  0.333333   \n",
              "wup   0.500000  0.500000  0.500000  0.500000  0.500000  0.500000  0.500000   \n",
              "\n",
              "            14        15        16        17        18        19  \n",
              "path  0.333333  0.333333  0.333333  0.333333  0.333333  0.333333  \n",
              "wup   0.500000  0.500000  0.500000  0.500000  0.500000  0.500000  "
            ],
            "text/html": [
              "\n",
              "  <div id=\"df-f6c8470d-7016-4fbb-bd10-9c1d70445c29\">\n",
              "    <div class=\"colab-df-container\">\n",
              "      <div>\n",
              "<style scoped>\n",
              "    .dataframe tbody tr th:only-of-type {\n",
              "        vertical-align: middle;\n",
              "    }\n",
              "\n",
              "    .dataframe tbody tr th {\n",
              "        vertical-align: top;\n",
              "    }\n",
              "\n",
              "    .dataframe thead th {\n",
              "        text-align: right;\n",
              "    }\n",
              "</style>\n",
              "<table border=\"1\" class=\"dataframe\">\n",
              "  <thead>\n",
              "    <tr style=\"text-align: right;\">\n",
              "      <th></th>\n",
              "      <th>0</th>\n",
              "      <th>1</th>\n",
              "      <th>2</th>\n",
              "      <th>3</th>\n",
              "      <th>4</th>\n",
              "      <th>5</th>\n",
              "      <th>6</th>\n",
              "      <th>7</th>\n",
              "      <th>8</th>\n",
              "      <th>9</th>\n",
              "      <th>10</th>\n",
              "      <th>11</th>\n",
              "      <th>12</th>\n",
              "      <th>13</th>\n",
              "      <th>14</th>\n",
              "      <th>15</th>\n",
              "      <th>16</th>\n",
              "      <th>17</th>\n",
              "      <th>18</th>\n",
              "      <th>19</th>\n",
              "    </tr>\n",
              "  </thead>\n",
              "  <tbody>\n",
              "    <tr>\n",
              "      <th>path</th>\n",
              "      <td>0.083333</td>\n",
              "      <td>0.083333</td>\n",
              "      <td>0.083333</td>\n",
              "      <td>0.083333</td>\n",
              "      <td>0.083333</td>\n",
              "      <td>0.333333</td>\n",
              "      <td>0.333333</td>\n",
              "      <td>0.333333</td>\n",
              "      <td>0.333333</td>\n",
              "      <td>0.333333</td>\n",
              "      <td>0.333333</td>\n",
              "      <td>0.333333</td>\n",
              "      <td>0.333333</td>\n",
              "      <td>0.333333</td>\n",
              "      <td>0.333333</td>\n",
              "      <td>0.333333</td>\n",
              "      <td>0.333333</td>\n",
              "      <td>0.333333</td>\n",
              "      <td>0.333333</td>\n",
              "      <td>0.333333</td>\n",
              "    </tr>\n",
              "    <tr>\n",
              "      <th>wup</th>\n",
              "      <td>0.153846</td>\n",
              "      <td>0.153846</td>\n",
              "      <td>0.153846</td>\n",
              "      <td>0.153846</td>\n",
              "      <td>0.153846</td>\n",
              "      <td>0.500000</td>\n",
              "      <td>0.500000</td>\n",
              "      <td>0.500000</td>\n",
              "      <td>0.500000</td>\n",
              "      <td>0.500000</td>\n",
              "      <td>0.500000</td>\n",
              "      <td>0.500000</td>\n",
              "      <td>0.500000</td>\n",
              "      <td>0.500000</td>\n",
              "      <td>0.500000</td>\n",
              "      <td>0.500000</td>\n",
              "      <td>0.500000</td>\n",
              "      <td>0.500000</td>\n",
              "      <td>0.500000</td>\n",
              "      <td>0.500000</td>\n",
              "    </tr>\n",
              "  </tbody>\n",
              "</table>\n",
              "</div>\n",
              "      <button class=\"colab-df-convert\" onclick=\"convertToInteractive('df-f6c8470d-7016-4fbb-bd10-9c1d70445c29')\"\n",
              "              title=\"Convert this dataframe to an interactive table.\"\n",
              "              style=\"display:none;\">\n",
              "        \n",
              "  <svg xmlns=\"http://www.w3.org/2000/svg\" height=\"24px\"viewBox=\"0 0 24 24\"\n",
              "       width=\"24px\">\n",
              "    <path d=\"M0 0h24v24H0V0z\" fill=\"none\"/>\n",
              "    <path d=\"M18.56 5.44l.94 2.06.94-2.06 2.06-.94-2.06-.94-.94-2.06-.94 2.06-2.06.94zm-11 1L8.5 8.5l.94-2.06 2.06-.94-2.06-.94L8.5 2.5l-.94 2.06-2.06.94zm10 10l.94 2.06.94-2.06 2.06-.94-2.06-.94-.94-2.06-.94 2.06-2.06.94z\"/><path d=\"M17.41 7.96l-1.37-1.37c-.4-.4-.92-.59-1.43-.59-.52 0-1.04.2-1.43.59L10.3 9.45l-7.72 7.72c-.78.78-.78 2.05 0 2.83L4 21.41c.39.39.9.59 1.41.59.51 0 1.02-.2 1.41-.59l7.78-7.78 2.81-2.81c.8-.78.8-2.07 0-2.86zM5.41 20L4 18.59l7.72-7.72 1.47 1.35L5.41 20z\"/>\n",
              "  </svg>\n",
              "      </button>\n",
              "      \n",
              "  <style>\n",
              "    .colab-df-container {\n",
              "      display:flex;\n",
              "      flex-wrap:wrap;\n",
              "      gap: 12px;\n",
              "    }\n",
              "\n",
              "    .colab-df-convert {\n",
              "      background-color: #E8F0FE;\n",
              "      border: none;\n",
              "      border-radius: 50%;\n",
              "      cursor: pointer;\n",
              "      display: none;\n",
              "      fill: #1967D2;\n",
              "      height: 32px;\n",
              "      padding: 0 0 0 0;\n",
              "      width: 32px;\n",
              "    }\n",
              "\n",
              "    .colab-df-convert:hover {\n",
              "      background-color: #E2EBFA;\n",
              "      box-shadow: 0px 1px 2px rgba(60, 64, 67, 0.3), 0px 1px 3px 1px rgba(60, 64, 67, 0.15);\n",
              "      fill: #174EA6;\n",
              "    }\n",
              "\n",
              "    [theme=dark] .colab-df-convert {\n",
              "      background-color: #3B4455;\n",
              "      fill: #D2E3FC;\n",
              "    }\n",
              "\n",
              "    [theme=dark] .colab-df-convert:hover {\n",
              "      background-color: #434B5C;\n",
              "      box-shadow: 0px 1px 3px 1px rgba(0, 0, 0, 0.15);\n",
              "      filter: drop-shadow(0px 1px 2px rgba(0, 0, 0, 0.3));\n",
              "      fill: #FFFFFF;\n",
              "    }\n",
              "  </style>\n",
              "\n",
              "      <script>\n",
              "        const buttonEl =\n",
              "          document.querySelector('#df-f6c8470d-7016-4fbb-bd10-9c1d70445c29 button.colab-df-convert');\n",
              "        buttonEl.style.display =\n",
              "          google.colab.kernel.accessAllowed ? 'block' : 'none';\n",
              "\n",
              "        async function convertToInteractive(key) {\n",
              "          const element = document.querySelector('#df-f6c8470d-7016-4fbb-bd10-9c1d70445c29');\n",
              "          const dataTable =\n",
              "            await google.colab.kernel.invokeFunction('convertToInteractive',\n",
              "                                                     [key], {});\n",
              "          if (!dataTable) return;\n",
              "\n",
              "          const docLinkHtml = 'Like what you see? Visit the ' +\n",
              "            '<a target=\"_blank\" href=https://colab.research.google.com/notebooks/data_table.ipynb>data table notebook</a>'\n",
              "            + ' to learn more about interactive tables.';\n",
              "          element.innerHTML = '';\n",
              "          dataTable['output_type'] = 'display_data';\n",
              "          await google.colab.output.renderOutput(dataTable, element);\n",
              "          const docLink = document.createElement('div');\n",
              "          docLink.innerHTML = docLinkHtml;\n",
              "          element.appendChild(docLink);\n",
              "        }\n",
              "      </script>\n",
              "    </div>\n",
              "  </div>\n",
              "  "
            ]
          },
          "metadata": {},
          "execution_count": 41
        }
      ],
      "source": [
        "anxiety_synsets = wn.synsets(\"brittle\") \n",
        "nervous_synsets = wn.synsets(\"nervous\") \n",
        "path=[]\n",
        "wup=[]\n",
        "lch=[]\n",
        "\n",
        "\n",
        "for s1 in anxiety_synsets:\n",
        "    for s2 in nervous_synsets:\n",
        "        path.append(s1.path_similarity(s2))\n",
        "        wup.append(s1.wup_similarity(s2))\n",
        "        #lch.append(s1.lch_similarity(s2))\n",
        "        \n",
        "\n",
        "pd.DataFrame([path,wup],[\"path\",\"wup\"])"
      ]
    },
    {
      "cell_type": "code",
      "execution_count": null,
      "metadata": {
        "id": "R3HnSPF2gYxH"
      },
      "outputs": [],
      "source": [
        "#similarite sem avec ts le corpus\n",
        "def semantic_similarity(symp_t,corpus):\n",
        "    max_sim=0\n",
        "    most_sim=None\n",
        "    for symp in corpus:\n",
        "        d=semanticD(symp_t,symp)\n",
        "        if d>max_sim:\n",
        "            most_sim=symp\n",
        "            max_sim=d\n",
        "    return max_sim,most_sim"
      ]
    },
    {
      "cell_type": "code",
      "execution_count": null,
      "metadata": {
        "colab": {
          "base_uri": "https://localhost:8080/"
        },
        "id": "jlV091exgYxH",
        "outputId": "68d9c9d0-7f91-40e6-e154-c25aa2a3894d"
      },
      "outputs": [
        {
          "output_type": "execute_result",
          "data": {
            "text/plain": [
              "(0.45, 'brittle nail')"
            ]
          },
          "metadata": {},
          "execution_count": 43
        }
      ],
      "source": [
        "semantic_similarity('nervous',all_symp_pr)"
      ]
    },
    {
      "cell_type": "code",
      "execution_count": null,
      "metadata": {
        "id": "pgjqH5VcgYxH"
      },
      "outputs": [],
      "source": [
        "all_symp_pr.sort()"
      ]
    },
    {
      "cell_type": "code",
      "execution_count": null,
      "metadata": {
        "colab": {
          "base_uri": "https://localhost:8080/"
        },
        "id": "PeOHy00-gYxH",
        "outputId": "daa93305-b3f3-42d2-ae85-10831881792c"
      },
      "outputs": [
        {
          "output_type": "execute_result",
          "data": {
            "text/plain": [
              "['abdominal pain',\n",
              " 'abnormal menstruation',\n",
              " 'acidity',\n",
              " 'acute liver failure',\n",
              " 'alter sensorium',\n",
              " 'anxiety',\n",
              " 'belly pain',\n",
              " 'blackhead',\n",
              " 'bladder discomfort',\n",
              " 'blister',\n",
              " 'blood sputum',\n",
              " 'bloody stool',\n",
              " 'blur distorted vision',\n",
              " 'breathlessness',\n",
              " 'brittle nail',\n",
              " 'bruise',\n",
              " 'burn micturition',\n",
              " 'chest pain',\n",
              " 'chill',\n",
              " 'cold hand feet',\n",
              " 'coma',\n",
              " 'congestion',\n",
              " 'constipation',\n",
              " 'continuous feel urine',\n",
              " 'continuous sneezing',\n",
              " 'cough',\n",
              " 'cramp',\n",
              " 'dark urine',\n",
              " 'dehydration',\n",
              " 'depression',\n",
              " 'diarrhoea',\n",
              " 'dischromic patch',\n",
              " 'distention abdoman',\n",
              " 'dizziness',\n",
              " 'dry tingle lip',\n",
              " 'enlarge thyroid',\n",
              " 'excessive hunger',\n",
              " 'extra marital contact',\n",
              " 'family history',\n",
              " 'fast heart rate',\n",
              " 'fatigue',\n",
              " 'fluid overload',\n",
              " 'fluid overload',\n",
              " 'foul smell urine',\n",
              " 'headache',\n",
              " 'high fever',\n",
              " 'hip joint pain',\n",
              " 'history alcohol consumption',\n",
              " 'increase appetite',\n",
              " 'indigestion',\n",
              " 'inflammatory nail',\n",
              " 'internal itching',\n",
              " 'irregular sugar level',\n",
              " 'irritability',\n",
              " 'irritation anus',\n",
              " 'itch',\n",
              " 'joint pain',\n",
              " 'knee pain',\n",
              " 'lack concentration',\n",
              " 'lethargy',\n",
              " 'loss appetite',\n",
              " 'loss balance',\n",
              " 'loss smell',\n",
              " 'malaise',\n",
              " 'mild fever',\n",
              " 'mood swing',\n",
              " 'movement stiffness',\n",
              " 'mucoid sputum',\n",
              " 'muscle pain',\n",
              " 'muscle waste',\n",
              " 'muscle weakness',\n",
              " 'nausea',\n",
              " 'neck pain',\n",
              " 'nodal skin eruption',\n",
              " 'obesity',\n",
              " 'pain',\n",
              " 'pain anal region',\n",
              " 'pain bowel movement',\n",
              " 'pain eye',\n",
              " 'painful walking',\n",
              " 'palpitation',\n",
              " 'passage gas',\n",
              " 'patch throat',\n",
              " 'phlegm',\n",
              " 'polyuria',\n",
              " 'prominent vein calf',\n",
              " 'puffy face eye',\n",
              " 'pus fill pimple',\n",
              " 'receive blood transfusion',\n",
              " 'receive unsterile injection',\n",
              " 'red sore nose',\n",
              " 'red spot body',\n",
              " 'redness eye',\n",
              " 'restlessness',\n",
              " 'runny nose',\n",
              " 'rusty sputum',\n",
              " 'scurre',\n",
              " 'shiver',\n",
              " 'silver like dust',\n",
              " 'sink eye',\n",
              " 'sinus pressure',\n",
              " 'skin peel',\n",
              " 'skin rash',\n",
              " 'slur speech',\n",
              " 'small dent nail',\n",
              " 'spin movement',\n",
              " 'spot urination',\n",
              " 'stiff neck',\n",
              " 'stomach bleeding',\n",
              " 'stomach pain',\n",
              " 'sweat',\n",
              " 'swell joint',\n",
              " 'swell lymph node',\n",
              " 'swelling stomach',\n",
              " 'swollen blood vessel',\n",
              " 'swollen extremetie',\n",
              " 'swollen leg',\n",
              " 'throat irritation',\n",
              " 'toxic look',\n",
              " 'ulcer tongue',\n",
              " 'unsteadiness',\n",
              " 'visual disturbance',\n",
              " 'vomit',\n",
              " 'water eye',\n",
              " 'weakness body',\n",
              " 'weakness limb',\n",
              " 'weight gain',\n",
              " 'weight loss',\n",
              " 'yellow crust ooze',\n",
              " 'yellow eye',\n",
              " 'yellow skin',\n",
              " 'yellow urine']"
            ]
          },
          "metadata": {},
          "execution_count": 45
        }
      ],
      "source": [
        "all_symp_pr"
      ]
    },
    {
      "cell_type": "code",
      "execution_count": null,
      "metadata": {
        "id": "rvXeuFa6gYxI"
      },
      "outputs": [],
      "source": [
        "from itertools import chain\n",
        "from nltk.corpus import wordnet\n",
        "def suggest_syn(sym):\n",
        "    symp=[]\n",
        "    synonyms = wordnet.synsets(sym)\n",
        "    lemmas=[word.lemma_names() for word in synonyms]\n",
        "    lemmas = list(set(chain(*lemmas)))\n",
        "    for e in lemmas:\n",
        "        res,sym1=semantic_similarity(e,all_symp_pr)\n",
        "        if res!=0:\n",
        "            symp.append(sym1)\n",
        "    return list(set(symp))"
      ]
    },
    {
      "cell_type": "code",
      "execution_count": null,
      "metadata": {
        "colab": {
          "base_uri": "https://localhost:8080/"
        },
        "id": "RDyqzPYMgYxI",
        "outputId": "809059e7-76f3-4dab-967e-01a7cc4f3ab3"
      },
      "outputs": [
        {
          "output_type": "execute_result",
          "data": {
            "text/plain": [
              "['unsteadiness', 'malaise', 'blur distorted vision', 'brittle nail']"
            ]
          },
          "metadata": {},
          "execution_count": 47
        }
      ],
      "source": [
        "suggest_syn('worried')"
      ]
    },
    {
      "cell_type": "code",
      "execution_count": null,
      "metadata": {
        "id": "fn_sJHqjgYxI"
      },
      "outputs": [],
      "source": [
        "#recoit client_symptoms et renvoit un dataframe avec 1 pour les symptoms associees\n",
        "def OHV(cl_sym,all_sym):\n",
        "    l=np.zeros([1,len(all_sym)])\n",
        "    for sym in cl_sym:\n",
        "        l[0,all_sym.index(sym)]=1\n",
        "    return pd.DataFrame(l, columns =all_symp)\n",
        "    "
      ]
    },
    {
      "cell_type": "code",
      "execution_count": null,
      "metadata": {
        "id": "1yJRu-7xgYxI"
      },
      "outputs": [],
      "source": [
        "def contains(small, big):\n",
        "    a=True\n",
        "    for i in small:\n",
        "        if i not in big:\n",
        "            a=False\n",
        "    return a"
      ]
    },
    {
      "cell_type": "code",
      "execution_count": null,
      "metadata": {
        "id": "LBY5BiVMgYxI"
      },
      "outputs": [],
      "source": [
        "def possible_diseases(l):\n",
        "    poss_dis=[]\n",
        "    for dis in set(disease):\n",
        "        if contains(l,symVONdisease(df_tr,dis)):\n",
        "            poss_dis.append(dis)\n",
        "    return poss_dis "
      ]
    },
    {
      "cell_type": "code",
      "execution_count": null,
      "metadata": {
        "colab": {
          "base_uri": "https://localhost:8080/"
        },
        "id": "XwnqPtfjgYxI",
        "outputId": "e1719fa1-e8d9-49b8-834f-01581577ca16"
      },
      "outputs": [
        {
          "output_type": "execute_result",
          "data": {
            "text/plain": [
              "{'(vertigo) Paroymsal  Positional Vertigo',\n",
              " 'AIDS',\n",
              " 'Acne',\n",
              " 'Alcoholic hepatitis',\n",
              " 'Allergy',\n",
              " 'Arthritis',\n",
              " 'Bronchial Asthma',\n",
              " 'Cervical spondylosis',\n",
              " 'Chicken pox',\n",
              " 'Chronic cholestasis',\n",
              " 'Common Cold',\n",
              " 'Dengue',\n",
              " 'Diabetes ',\n",
              " 'Dimorphic hemmorhoids(piles)',\n",
              " 'Drug Reaction',\n",
              " 'Fungal infection',\n",
              " 'GERD',\n",
              " 'Gastroenteritis',\n",
              " 'Heart attack',\n",
              " 'Hepatitis B',\n",
              " 'Hepatitis C',\n",
              " 'Hepatitis D',\n",
              " 'Hepatitis E',\n",
              " 'Hypertension ',\n",
              " 'Hyperthyroidism',\n",
              " 'Hypoglycemia',\n",
              " 'Hypothyroidism',\n",
              " 'Impetigo',\n",
              " 'Jaundice',\n",
              " 'Malaria',\n",
              " 'Migraine',\n",
              " 'Osteoarthristis',\n",
              " 'Paralysis (brain hemorrhage)',\n",
              " 'Peptic ulcer diseae',\n",
              " 'Pneumonia',\n",
              " 'Psoriasis',\n",
              " 'Tuberculosis',\n",
              " 'Typhoid',\n",
              " 'Urinary tract infection',\n",
              " 'Varicose veins',\n",
              " 'hepatitis A'}"
            ]
          },
          "metadata": {},
          "execution_count": 51
        }
      ],
      "source": [
        "set(disease)"
      ]
    },
    {
      "cell_type": "code",
      "execution_count": null,
      "metadata": {
        "id": "tcd0OA8qgYxI"
      },
      "outputs": [],
      "source": [
        "#recoit une maladie renvoit tous les sympts\n",
        "def symVONdisease(df,disease):\n",
        "    ddf=df[df.prognosis==disease] \n",
        "    m2 = (ddf == 1).any()\n",
        "    return m2.index[m2].tolist()\n",
        "    "
      ]
    },
    {
      "cell_type": "code",
      "execution_count": null,
      "metadata": {
        "colab": {
          "base_uri": "https://localhost:8080/"
        },
        "id": "32J2ByetgYxI",
        "outputId": "ea052ae9-ac1f-4d0b-8c3b-d95f20ad7a89"
      },
      "outputs": [
        {
          "output_type": "execute_result",
          "data": {
            "text/plain": [
              "['itching',\n",
              " 'vomiting',\n",
              " 'fatigue',\n",
              " 'weight_loss',\n",
              " 'high_fever',\n",
              " 'yellowish_skin',\n",
              " 'dark_urine',\n",
              " 'abdominal_pain']"
            ]
          },
          "metadata": {},
          "execution_count": 53
        }
      ],
      "source": [
        "symVONdisease(df_tr,'Jaundice')"
      ]
    },
    {
      "cell_type": "markdown",
      "metadata": {
        "id": "WQgiJ7xhgYxI"
      },
      "source": [
        "# V- Prediction Model"
      ]
    },
    {
      "cell_type": "code",
      "execution_count": null,
      "metadata": {
        "id": "ggiEZyiegYxJ"
      },
      "outputs": [],
      "source": [
        "from sklearn.neighbors import KNeighborsClassifier\n",
        "from sklearn.tree import DecisionTreeClassifier\n",
        "from sklearn.metrics import classification_report\n",
        "from sklearn.model_selection import GridSearchCV"
      ]
    },
    {
      "cell_type": "code",
      "execution_count": null,
      "metadata": {
        "id": "WfdudlGcgYxJ"
      },
      "outputs": [],
      "source": [
        "X_train=df_tr.iloc[:,:-1]\n",
        "X_test=df_tt.iloc[:,:-1]\n",
        "y_train = df_tr.iloc[:,-1]\n",
        "y_test = df_tt.iloc[:,-1]"
      ]
    },
    {
      "cell_type": "code",
      "execution_count": null,
      "metadata": {
        "colab": {
          "base_uri": "https://localhost:8080/"
        },
        "id": "ooUAgPMxrVVM",
        "outputId": "15a10609-0384-4631-af58-c00775d1bcc1"
      },
      "outputs": [
        {
          "output_type": "stream",
          "name": "stdout",
          "text": [
            "X_train shape: (4920, 132)\n",
            "y_train shape: (4920,)\n",
            "X_test shape: (41, 132)\n",
            "y_test shape: (41,)\n"
          ]
        }
      ],
      "source": [
        "print(\"X_train shape:\", X_train.shape)\n",
        "print(\"y_train shape:\", y_train.shape)\n",
        "print(\"X_test shape:\", X_test.shape)\n",
        "print(\"y_test shape:\", y_test.shape)"
      ]
    },
    {
      "cell_type": "markdown",
      "metadata": {
        "id": "DtuYzy0Av9p9"
      },
      "source": [
        "## KNN"
      ]
    },
    {
      "cell_type": "code",
      "execution_count": null,
      "metadata": {
        "colab": {
          "base_uri": "https://localhost:8080/"
        },
        "id": "R0k2BWMnv9p-",
        "outputId": "25bbfad1-6b3e-44f2-8c12-88b6d4cf9456"
      },
      "outputs": [
        {
          "output_type": "stream",
          "name": "stdout",
          "text": [
            "Best hyperparameters: {'n_neighbors': 1, 'weights': 'uniform'}\n",
            "Best accuracy score: 1.0\n",
            "Classification report:\n",
            "                                          precision    recall  f1-score   support\n",
            "\n",
            "(vertigo) Paroymsal  Positional Vertigo       1.00      1.00      1.00         1\n",
            "                                   AIDS       1.00      1.00      1.00         1\n",
            "                                   Acne       1.00      1.00      1.00         1\n",
            "                    Alcoholic hepatitis       1.00      1.00      1.00         1\n",
            "                                Allergy       1.00      1.00      1.00         1\n",
            "                              Arthritis       1.00      1.00      1.00         1\n",
            "                       Bronchial Asthma       1.00      1.00      1.00         1\n",
            "                   Cervical spondylosis       1.00      1.00      1.00         1\n",
            "                            Chicken pox       1.00      1.00      1.00         1\n",
            "                    Chronic cholestasis       1.00      1.00      1.00         1\n",
            "                            Common Cold       1.00      1.00      1.00         1\n",
            "                                 Dengue       1.00      1.00      1.00         1\n",
            "                              Diabetes        1.00      1.00      1.00         1\n",
            "           Dimorphic hemmorhoids(piles)       1.00      1.00      1.00         1\n",
            "                          Drug Reaction       1.00      1.00      1.00         1\n",
            "                       Fungal infection       1.00      1.00      1.00         1\n",
            "                                   GERD       1.00      1.00      1.00         1\n",
            "                        Gastroenteritis       1.00      1.00      1.00         1\n",
            "                           Heart attack       1.00      1.00      1.00         1\n",
            "                            Hepatitis B       1.00      1.00      1.00         1\n",
            "                            Hepatitis C       1.00      1.00      1.00         1\n",
            "                            Hepatitis D       1.00      1.00      1.00         1\n",
            "                            Hepatitis E       1.00      1.00      1.00         1\n",
            "                          Hypertension        1.00      1.00      1.00         1\n",
            "                        Hyperthyroidism       1.00      1.00      1.00         1\n",
            "                           Hypoglycemia       1.00      1.00      1.00         1\n",
            "                         Hypothyroidism       1.00      1.00      1.00         1\n",
            "                               Impetigo       1.00      1.00      1.00         1\n",
            "                               Jaundice       1.00      1.00      1.00         1\n",
            "                                Malaria       1.00      1.00      1.00         1\n",
            "                               Migraine       1.00      1.00      1.00         1\n",
            "                        Osteoarthristis       1.00      1.00      1.00         1\n",
            "           Paralysis (brain hemorrhage)       1.00      1.00      1.00         1\n",
            "                    Peptic ulcer diseae       1.00      1.00      1.00         1\n",
            "                              Pneumonia       1.00      1.00      1.00         1\n",
            "                              Psoriasis       1.00      1.00      1.00         1\n",
            "                           Tuberculosis       1.00      1.00      1.00         1\n",
            "                                Typhoid       1.00      1.00      1.00         1\n",
            "                Urinary tract infection       1.00      1.00      1.00         1\n",
            "                         Varicose veins       1.00      1.00      1.00         1\n",
            "                            hepatitis A       1.00      1.00      1.00         1\n",
            "\n",
            "                               accuracy                           1.00        41\n",
            "                              macro avg       1.00      1.00      1.00        41\n",
            "                           weighted avg       1.00      1.00      1.00        41\n",
            "\n"
          ]
        }
      ],
      "source": [
        "# Define the range of hyperparameters to search\n",
        "param_grid = {'n_neighbors': [1, 3, 5, 7, 9], 'weights': ['uniform', 'distance']}\n",
        "\n",
        "# Create a KNN classifier object\n",
        "knn = KNeighborsClassifier()\n",
        "\n",
        "# Create a grid search object with cross-validation\n",
        "knn_clf = GridSearchCV(knn, param_grid, cv=5)\n",
        "\n",
        "# Fit the grid search object to the data\n",
        "knn_clf.fit(X_train, y_train)\n",
        "\n",
        "# Print the best hyperparameters and accuracy score\n",
        "print(\"Best hyperparameters:\", knn_clf.best_params_)\n",
        "print(\"Best accuracy score:\", knn_clf.best_score_)\n",
        "\n",
        "# Generate predictions on the test set using the best estimator\n",
        "y_pred = knn_clf.best_estimator_.predict(X_test)\n",
        "\n",
        "# Print the classification report\n",
        "from sklearn.metrics import classification_report\n",
        "report = classification_report(y_test, y_pred)\n",
        "print(\"Classification report:\\n\", report)\n"
      ]
    },
    {
      "cell_type": "markdown",
      "metadata": {
        "id": "bWFJCzmiv9p-"
      },
      "source": [
        "## Decision Tree"
      ]
    },
    {
      "cell_type": "code",
      "source": [
        "# Define the Decision Tree Classifier\n",
        "dt = DecisionTreeClassifier()\n",
        "\n",
        "# Define the parameters to tune\n",
        "param_grid = {\n",
        "    'max_depth': [3, 5, 7],\n",
        "    'min_samples_split': [2, 5, 10],\n",
        "    'min_samples_leaf': [1, 2, 4]\n",
        "}\n",
        "\n",
        "# Define the GridSearch object\n",
        "dt_clf = GridSearchCV(dt, param_grid, cv=5)\n",
        "\n",
        "# Fit the GridSearch object to the data\n",
        "dt_clf.fit(X_train, y_train)\n",
        "\n",
        "# Print the best parameters and score\n",
        "print(\"Best parameters: \", dt_clf.best_params_)\n",
        "print(\"Best score: \", dt_clf.best_score_)\n",
        "\n",
        "# Get the best estimator from GridSearchCV\n",
        "best_dt = dt_clf.best_estimator_\n",
        "\n",
        "# Evaluate the best estimator on the test set\n",
        "accuracy = best_dt.score(X_test, y_test)\n",
        "\n",
        "# Print the accuracy score\n",
        "print(\"Test set accuracy: \", accuracy)\n"
      ],
      "metadata": {
        "colab": {
          "base_uri": "https://localhost:8080/"
        },
        "id": "CNqyj1DOq_Ot",
        "outputId": "8246d393-99d4-439a-f0f8-eb8cbdb3b52c"
      },
      "execution_count": null,
      "outputs": [
        {
          "output_type": "stream",
          "name": "stdout",
          "text": [
            "Best parameters:  {'max_depth': 7, 'min_samples_leaf': 2, 'min_samples_split': 10}\n",
            "Best score:  0.21463414634146344\n",
            "Test set accuracy:  0.21951219512195122\n"
          ]
        }
      ]
    },
    {
      "cell_type": "code",
      "source": [
        "# # Generate predictions on the test set using the best estimator\n",
        "# y_pred = dt_clf.best_estimator_.predict(X_test)\n",
        "\n",
        "# # Print the classification report\n",
        "# from sklearn.metrics import classification_report\n",
        "# report = classification_report(y_test, y_pred)\n",
        "# print(\"Classification report:\\n\", report)\n",
        "\n",
        "# # Get the feature importances\n",
        "# importances = dt_clf.best_estimator_.feature_importances_\n",
        "\n",
        "# # Print the feature importances\n",
        "# print(\"Feature importances:\")\n",
        "# for i, feature in enumerate(X_train.columns):\n",
        "#     print(f\"{feature}: {importances[i]}\")\n"
      ],
      "metadata": {
        "id": "wMaRdNU_ww5K"
      },
      "execution_count": null,
      "outputs": []
    },
    {
      "cell_type": "markdown",
      "metadata": {
        "id": "MYZAIIpgv9p_"
      },
      "source": [
        "## K-means"
      ]
    },
    {
      "cell_type": "code",
      "execution_count": null,
      "metadata": {
        "colab": {
          "base_uri": "https://localhost:8080/"
        },
        "id": "-aq68k4Rv9p_",
        "outputId": "923b1037-551a-472c-818a-205aa4ebf0fb"
      },
      "outputs": [
        {
          "output_type": "stream",
          "name": "stdout",
          "text": [
            "Best parameters: {'max_iter': 50, 'n_clusters': 5}\n",
            "Best score: -4588.454588970504\n",
            "Silhouette score: 0.09686414253872007\n"
          ]
        }
      ],
      "source": [
        "from sklearn.metrics import silhouette_score\n",
        "\n",
        "kmeans = KMeans()\n",
        "\n",
        "# create a parameter grid to search over\n",
        "param_grid = {'n_clusters': [2, 3, 4, 5],\n",
        "              'max_iter': [50, 100, 150, 200]}\n",
        "\n",
        "# create a grid search object\n",
        "km_clf = GridSearchCV(kmeans, param_grid=param_grid)\n",
        "\n",
        "# fit the grid search object to your data\n",
        "km_clf.fit(X_train,y_train)\n",
        "\n",
        "# print the best parameters and score\n",
        "print(\"Best parameters:\", km_clf.best_params_)\n",
        "print(\"Best score:\", km_clf.best_score_)\n",
        "\n",
        "# predict cluster labels for the test set using the best model\n",
        "y_pred = km_clf.predict(X_test)\n",
        "\n",
        "# calculate the silhouette score for the test set\n",
        "silhouette = silhouette_score(X_test, y_pred)\n",
        "\n",
        "print(\"Silhouette score:\", silhouette)\n"
      ]
    },
    {
      "cell_type": "code",
      "source": [
        "# # Generate predictions on the test set using the best estimator\n",
        "# y_pred = km_clf.best_estimator_.predict(X_test)\n",
        "\n",
        "# # Print the classification report\n",
        "# report = classification_report(y_test, y_pred)\n",
        "# print(\"Classification report:\\n\", report)"
      ],
      "metadata": {
        "id": "TLsqIwRHwzUf"
      },
      "execution_count": null,
      "outputs": []
    },
    {
      "cell_type": "markdown",
      "metadata": {
        "id": "WFDcZqQ9v9p_"
      },
      "source": [
        "## Mulitinomial Naive Bayes"
      ]
    },
    {
      "cell_type": "markdown",
      "metadata": {
        "id": "eW_5A3KLv9p_"
      },
      "source": [
        "The Multinomial Naive Bayes classifier is typically used for text classification tasks where the features are word counts or term frequencies. In contrast, the Gaussian Naive Bayes classifier assumes that the features are continuous variables that follow a Gaussian distribution."
      ]
    },
    {
      "cell_type": "code",
      "execution_count": null,
      "metadata": {
        "colab": {
          "base_uri": "https://localhost:8080/"
        },
        "id": "otWrJw9mv9qA",
        "outputId": "040473c5-712f-4ccc-a04f-671d86bc3179"
      },
      "outputs": [
        {
          "output_type": "stream",
          "name": "stdout",
          "text": [
            "Accuracy: 1.0\n",
            "                                         precision    recall  f1-score   support\n",
            "\n",
            "(vertigo) Paroymsal  Positional Vertigo       1.00      1.00      1.00         1\n",
            "                                   AIDS       1.00      1.00      1.00         1\n",
            "                                   Acne       1.00      1.00      1.00         1\n",
            "                    Alcoholic hepatitis       1.00      1.00      1.00         1\n",
            "                                Allergy       1.00      1.00      1.00         1\n",
            "                              Arthritis       1.00      1.00      1.00         1\n",
            "                       Bronchial Asthma       1.00      1.00      1.00         1\n",
            "                   Cervical spondylosis       1.00      1.00      1.00         1\n",
            "                            Chicken pox       1.00      1.00      1.00         1\n",
            "                    Chronic cholestasis       1.00      1.00      1.00         1\n",
            "                            Common Cold       1.00      1.00      1.00         1\n",
            "                                 Dengue       1.00      1.00      1.00         1\n",
            "                              Diabetes        1.00      1.00      1.00         1\n",
            "           Dimorphic hemmorhoids(piles)       1.00      1.00      1.00         1\n",
            "                          Drug Reaction       1.00      1.00      1.00         1\n",
            "                       Fungal infection       1.00      1.00      1.00         1\n",
            "                                   GERD       1.00      1.00      1.00         1\n",
            "                        Gastroenteritis       1.00      1.00      1.00         1\n",
            "                           Heart attack       1.00      1.00      1.00         1\n",
            "                            Hepatitis B       1.00      1.00      1.00         1\n",
            "                            Hepatitis C       1.00      1.00      1.00         1\n",
            "                            Hepatitis D       1.00      1.00      1.00         1\n",
            "                            Hepatitis E       1.00      1.00      1.00         1\n",
            "                          Hypertension        1.00      1.00      1.00         1\n",
            "                        Hyperthyroidism       1.00      1.00      1.00         1\n",
            "                           Hypoglycemia       1.00      1.00      1.00         1\n",
            "                         Hypothyroidism       1.00      1.00      1.00         1\n",
            "                               Impetigo       1.00      1.00      1.00         1\n",
            "                               Jaundice       1.00      1.00      1.00         1\n",
            "                                Malaria       1.00      1.00      1.00         1\n",
            "                               Migraine       1.00      1.00      1.00         1\n",
            "                        Osteoarthristis       1.00      1.00      1.00         1\n",
            "           Paralysis (brain hemorrhage)       1.00      1.00      1.00         1\n",
            "                    Peptic ulcer diseae       1.00      1.00      1.00         1\n",
            "                              Pneumonia       1.00      1.00      1.00         1\n",
            "                              Psoriasis       1.00      1.00      1.00         1\n",
            "                           Tuberculosis       1.00      1.00      1.00         1\n",
            "                                Typhoid       1.00      1.00      1.00         1\n",
            "                Urinary tract infection       1.00      1.00      1.00         1\n",
            "                         Varicose veins       1.00      1.00      1.00         1\n",
            "                            hepatitis A       1.00      1.00      1.00         1\n",
            "\n",
            "                               accuracy                           1.00        41\n",
            "                              macro avg       1.00      1.00      1.00        41\n",
            "                           weighted avg       1.00      1.00      1.00        41\n",
            "\n"
          ]
        }
      ],
      "source": [
        "from sklearn.naive_bayes import MultinomialNB\n",
        "from sklearn.metrics import accuracy_score\n",
        "\n",
        "# Create a Multinomial Naive Bayes classifier object\n",
        "mnb = MultinomialNB()\n",
        "\n",
        "# Define the hyperparameters to optimize\n",
        "param_grid = {\n",
        "    'alpha': [0.1, 0.5, 1.0, 2.0, 5.0]\n",
        "}\n",
        "\n",
        "# Create a GridSearchCV object\n",
        "nb_clf = GridSearchCV(mnb, param_grid, cv=5)\n",
        "\n",
        "# Fit the GridSearchCV object on the training data\n",
        "nb_clf.fit(X_train, y_train)\n",
        "\n",
        "# Get the best hyperparameters and use them to train the classifier\n",
        "best_params = nb_clf.best_params_\n",
        "best_mnb = MultinomialNB(alpha=best_params['alpha'])\n",
        "best_mnb.fit(X_train, y_train)\n",
        "\n",
        "# Evaluate the classifier on the test data\n",
        "y_pred = best_mnb.predict(X_test)\n",
        "accuracy = accuracy_score(y_test, y_pred)\n",
        "print(\"Accuracy:\", accuracy)\n",
        "\n",
        "# Print the classification report\n",
        "report = classification_report(y_test, y_pred)\n",
        "print(report)\n"
      ]
    },
    {
      "cell_type": "markdown",
      "metadata": {
        "id": "g0kw7zO1v9qA"
      },
      "source": [
        "## Random Forest"
      ]
    },
    {
      "cell_type": "code",
      "execution_count": null,
      "metadata": {
        "colab": {
          "base_uri": "https://localhost:8080/"
        },
        "id": "kDTNvo7qv9qA",
        "outputId": "de1801bb-d387-4127-af62-10ef7cb38645"
      },
      "outputs": [
        {
          "output_type": "stream",
          "name": "stdout",
          "text": [
            "Fitting 5 folds for each of 90 candidates, totalling 450 fits\n",
            "Accuracy: 1.0\n",
            "                                         precision    recall  f1-score   support\n",
            "\n",
            "(vertigo) Paroymsal  Positional Vertigo       1.00      1.00      1.00         1\n",
            "                                   AIDS       1.00      1.00      1.00         1\n",
            "                                   Acne       1.00      1.00      1.00         1\n",
            "                    Alcoholic hepatitis       1.00      1.00      1.00         1\n",
            "                                Allergy       1.00      1.00      1.00         1\n",
            "                              Arthritis       1.00      1.00      1.00         1\n",
            "                       Bronchial Asthma       1.00      1.00      1.00         1\n",
            "                   Cervical spondylosis       1.00      1.00      1.00         1\n",
            "                            Chicken pox       1.00      1.00      1.00         1\n",
            "                    Chronic cholestasis       1.00      1.00      1.00         1\n",
            "                            Common Cold       1.00      1.00      1.00         1\n",
            "                                 Dengue       1.00      1.00      1.00         1\n",
            "                              Diabetes        1.00      1.00      1.00         1\n",
            "           Dimorphic hemmorhoids(piles)       1.00      1.00      1.00         1\n",
            "                          Drug Reaction       1.00      1.00      1.00         1\n",
            "                       Fungal infection       1.00      1.00      1.00         1\n",
            "                                   GERD       1.00      1.00      1.00         1\n",
            "                        Gastroenteritis       1.00      1.00      1.00         1\n",
            "                           Heart attack       1.00      1.00      1.00         1\n",
            "                            Hepatitis B       1.00      1.00      1.00         1\n",
            "                            Hepatitis C       1.00      1.00      1.00         1\n",
            "                            Hepatitis D       1.00      1.00      1.00         1\n",
            "                            Hepatitis E       1.00      1.00      1.00         1\n",
            "                          Hypertension        1.00      1.00      1.00         1\n",
            "                        Hyperthyroidism       1.00      1.00      1.00         1\n",
            "                           Hypoglycemia       1.00      1.00      1.00         1\n",
            "                         Hypothyroidism       1.00      1.00      1.00         1\n",
            "                               Impetigo       1.00      1.00      1.00         1\n",
            "                               Jaundice       1.00      1.00      1.00         1\n",
            "                                Malaria       1.00      1.00      1.00         1\n",
            "                               Migraine       1.00      1.00      1.00         1\n",
            "                        Osteoarthristis       1.00      1.00      1.00         1\n",
            "           Paralysis (brain hemorrhage)       1.00      1.00      1.00         1\n",
            "                    Peptic ulcer diseae       1.00      1.00      1.00         1\n",
            "                              Pneumonia       1.00      1.00      1.00         1\n",
            "                              Psoriasis       1.00      1.00      1.00         1\n",
            "                           Tuberculosis       1.00      1.00      1.00         1\n",
            "                                Typhoid       1.00      1.00      1.00         1\n",
            "                Urinary tract infection       1.00      1.00      1.00         1\n",
            "                         Varicose veins       1.00      1.00      1.00         1\n",
            "                            hepatitis A       1.00      1.00      1.00         1\n",
            "\n",
            "                               accuracy                           1.00        41\n",
            "                              macro avg       1.00      1.00      1.00        41\n",
            "                           weighted avg       1.00      1.00      1.00        41\n",
            "\n"
          ]
        }
      ],
      "source": [
        "from sklearn.ensemble import RandomForestClassifier\n",
        "from sklearn.datasets import make_classification\n",
        "\n",
        "# Define the parameter grid for the grid search\n",
        "param_grid = {\n",
        "    'n_estimators': [100, 200, 300],\n",
        "    'max_features': ['auto', 'sqrt', 'log2'],\n",
        "    'max_depth' : [4,5,6,7,8],\n",
        "    'criterion' :['gini', 'entropy']\n",
        "}\n",
        "\n",
        "# Create a random forest classifier object\n",
        "rfc = RandomForestClassifier(random_state=42)\n",
        "\n",
        "# Create a grid search object\n",
        "rf_clf = GridSearchCV(estimator=rfc, param_grid=param_grid,\n",
        "                          cv=5, n_jobs=-1, verbose=2)\n",
        "\n",
        "# Fit the grid search object to the training data\n",
        "rf_clf.fit(X_train, y_train)\n",
        "\n",
        "# Get the best hyperparameters from the grid search\n",
        "best_params = rf_clf.best_params_\n",
        "\n",
        "# Create a new random forest classifier object with the best hyperparameters\n",
        "rfc_best = RandomForestClassifier(random_state=42, **best_params)\n",
        "\n",
        "# Fit the new random forest classifier to the training data\n",
        "rfc_best.fit(X_train, y_train)\n",
        "\n",
        "# Evaluate the performance of the new random forest classifier on the testing data\n",
        "accuracy = rfc_best.score(X_test, y_test)\n",
        "print(\"Accuracy:\", accuracy)\n",
        "\n",
        "# Print the classification report on the testing data\n",
        "y_pred = rfc_best.predict(X_test)\n",
        "print(classification_report(y_test, y_pred))\n",
        "\n",
        "# # Print the feature importance\n",
        "# feat_importances = rfc_best.feature_importances_\n",
        "# print(\"Feature importances:\", feat_importances)"
      ]
    },
    {
      "cell_type": "markdown",
      "metadata": {
        "id": "6MiCeIzRgYxJ",
        "outputId": "f810daa4-f2ab-429f-d2a6-71bc74c9b5a4"
      },
      "source": [
        "## Top 5 probable diseases"
      ]
    },
    {
      "cell_type": "code",
      "source": [
        "diseases=df_tr.prognosis.unique()"
      ],
      "metadata": {
        "id": "vkPL3mxE7brf"
      },
      "execution_count": null,
      "outputs": []
    },
    {
      "cell_type": "code",
      "execution_count": null,
      "metadata": {
        "colab": {
          "base_uri": "https://localhost:8080/"
        },
        "id": "D7SEOCIyuQCV",
        "outputId": "4b96915c-a646-4df4-9a3b-afac6a1eb54f"
      },
      "outputs": [
        {
          "output_type": "stream",
          "name": "stdout",
          "text": [
            "{'Fungal infection': 0, 'Allergy': 1, 'GERD': 2, 'Chronic cholestasis': 3, 'Drug Reaction': 4, 'Peptic ulcer diseae': 5, 'AIDS': 6, 'Diabetes ': 7, 'Gastroenteritis': 8, 'Bronchial Asthma': 9, 'Hypertension ': 10, 'Migraine': 11, 'Cervical spondylosis': 12, 'Paralysis (brain hemorrhage)': 13, 'Jaundice': 14, 'Malaria': 15, 'Chicken pox': 16, 'Dengue': 17, 'Typhoid': 18, 'hepatitis A': 19, 'Hepatitis B': 20, 'Hepatitis C': 21, 'Hepatitis D': 22, 'Hepatitis E': 23, 'Alcoholic hepatitis': 24, 'Tuberculosis': 25, 'Common Cold': 26, 'Pneumonia': 27, 'Dimorphic hemmorhoids(piles)': 28, 'Heart attack': 29, 'Varicose veins': 30, 'Hypothyroidism': 31, 'Hyperthyroidism': 32, 'Hypoglycemia': 33, 'Osteoarthristis': 34, 'Arthritis': 35, '(vertigo) Paroymsal  Positional Vertigo': 36, 'Acne': 37, 'Urinary tract infection': 38, 'Psoriasis': 39, 'Impetigo': 40}\n"
          ]
        }
      ],
      "source": [
        "classes=[x for x in range(0,41)] \n",
        "class_dict = {diseases: classes for diseases,\n",
        "            classes in zip(diseases, classes)}\n",
        "print(class_dict)"
      ]
    },
    {
      "cell_type": "code",
      "execution_count": null,
      "metadata": {
        "id": "NQyBBpGruURJ"
      },
      "outputs": [],
      "source": [
        "y_train2=[]\n",
        "for prognosis in df_tr.prognosis:\n",
        "    y_train2.append(class_dict[prognosis])"
      ]
    },
    {
      "cell_type": "code",
      "execution_count": null,
      "metadata": {
        "id": "ob23k4L3ujWX"
      },
      "outputs": [],
      "source": [
        "y_test2=[]\n",
        "for prognosis in df_tt.prognosis:\n",
        "    y_test2.append(class_dict[prognosis])\n"
      ]
    },
    {
      "cell_type": "code",
      "execution_count": null,
      "metadata": {
        "colab": {
          "base_uri": "https://localhost:8080/"
        },
        "id": "n6WC4W0_uDXd",
        "outputId": "d2b001d6-f727-4375-ab27-11471ec104d5"
      },
      "outputs": [
        {
          "output_type": "stream",
          "name": "stdout",
          "text": [
            "154/154 [==============================] - 1s 2ms/step - loss: 1.7206 - accuracy: 0.8752\n"
          ]
        },
        {
          "output_type": "execute_result",
          "data": {
            "text/plain": [
              "<keras.callbacks.History at 0x7f844b07bd90>"
            ]
          },
          "metadata": {},
          "execution_count": 68
        }
      ],
      "source": [
        "import tensorflow as tf\n",
        "from tensorflow import keras\n",
        "\n",
        "\n",
        "model = keras.Sequential([\n",
        "    keras.layers.Dense(132, input_shape=(132,), activation='relu'),\n",
        "    keras.layers.Dense(41, activation='sigmoid'),\n",
        "])\n",
        "\n",
        "model.compile(optimizer='adam',\n",
        "              loss='sparse_categorical_crossentropy',\n",
        "              metrics=['accuracy'])\n",
        "\n",
        "model.fit(np.array(X_train), np.array(y_train2), epochs=1)"
      ]
    },
    {
      "cell_type": "code",
      "execution_count": null,
      "metadata": {
        "colab": {
          "base_uri": "https://localhost:8080/"
        },
        "id": "Sa0JSWtouaSb",
        "outputId": "5321dd55-27eb-4e4f-f75e-d710f88a5647"
      },
      "outputs": [
        {
          "output_type": "stream",
          "name": "stdout",
          "text": [
            "2/2 [==============================] - 0s 8ms/step - loss: 0.1756 - accuracy: 1.0000\n"
          ]
        },
        {
          "output_type": "execute_result",
          "data": {
            "text/plain": [
              "[0.1755572110414505, 1.0]"
            ]
          },
          "metadata": {},
          "execution_count": 69
        }
      ],
      "source": [
        "model.evaluate(np.array(X_test),np.array(y_test2))"
      ]
    },
    {
      "cell_type": "code",
      "execution_count": null,
      "metadata": {
        "colab": {
          "base_uri": "https://localhost:8080/"
        },
        "id": "cewhFC6iusIh",
        "outputId": "2e9a6e30-e4e5-4b5a-cad9-7798974c90ca"
      },
      "outputs": [
        {
          "output_type": "stream",
          "name": "stdout",
          "text": [
            "2/2 [==============================] - 0s 3ms/step\n"
          ]
        },
        {
          "output_type": "execute_result",
          "data": {
            "text/plain": [
              "(41, 41)"
            ]
          },
          "metadata": {},
          "execution_count": 70
        }
      ],
      "source": [
        "pred=model.predict(X_test)\n",
        "pred.shape"
      ]
    },
    {
      "cell_type": "code",
      "execution_count": null,
      "metadata": {
        "id": "x7D_CQiIuup2"
      },
      "outputs": [],
      "source": [
        "#Extract Top five diseases\n",
        "top_five_diseases=[]\n",
        "for i in pred:\n",
        "    top_five=[]\n",
        "    top_five_indices=(-i).argsort()[:5]\n",
        "    for j in top_five_indices:\n",
        "        top_five.append(diseases[j])\n",
        "    top_five_diseases.append(top_five)"
      ]
    },
    {
      "cell_type": "code",
      "execution_count": null,
      "metadata": {
        "id": "zNmSd8kUuyW5"
      },
      "outputs": [],
      "source": [
        "#Extract Symptoms\n",
        "all_symptoms=[]\n",
        "for i in range(0,41):\n",
        "    symptoms=[]\n",
        "    for j in df_tt.columns:\n",
        "        if((df_tt.iloc[i])[j]==1):\n",
        "            symptoms.append(j)\n",
        "    all_symptoms.append(symptoms)"
      ]
    },
    {
      "cell_type": "code",
      "execution_count": null,
      "metadata": {
        "id": "8ZNjBssKu4oG"
      },
      "outputs": [],
      "source": [
        "data={'Symptoms':all_symptoms,'Predicted':top_five_diseases}\n",
        "result=pd.DataFrame(data)"
      ]
    },
    {
      "cell_type": "code",
      "execution_count": null,
      "metadata": {
        "colab": {
          "base_uri": "https://localhost:8080/"
        },
        "id": "7sziI_vGu96N",
        "outputId": "29c996fc-2639-41c3-92cb-133dfc432f07"
      },
      "outputs": [
        {
          "output_type": "execute_result",
          "data": {
            "text/plain": [
              "                                             Symptoms  \\\n",
              "0   [itching, skin_rash, nodal_skin_eruptions, dis...   \n",
              "1   [continuous_sneezing, shivering, chills, water...   \n",
              "2   [stomach_pain, acidity, ulcers_on_tongue, vomi...   \n",
              "3   [itching, vomiting, yellowish_skin, nausea, lo...   \n",
              "4   [itching, skin_rash, stomach_pain, burning_mic...   \n",
              "5   [vomiting, indigestion, loss_of_appetite, abdo...   \n",
              "6   [muscle_wasting, patches_in_throat, high_fever...   \n",
              "7   [fatigue, weight_loss, restlessness, lethargy,...   \n",
              "8     [vomiting, sunken_eyes, dehydration, diarrhoea]   \n",
              "9   [fatigue, cough, high_fever, breathlessness, f...   \n",
              "10  [headache, chest_pain, dizziness, loss_of_bala...   \n",
              "11  [acidity, indigestion, headache, blurred_and_d...   \n",
              "12  [back_pain, weakness_in_limbs, neck_pain, dizz...   \n",
              "13  [vomiting, headache, weakness_of_one_body_side...   \n",
              "14  [itching, vomiting, fatigue, weight_loss, high...   \n",
              "15  [chills, vomiting, high_fever, sweating, heada...   \n",
              "16  [itching, skin_rash, fatigue, lethargy, high_f...   \n",
              "17  [skin_rash, chills, joint_pain, vomiting, fati...   \n",
              "18  [chills, vomiting, fatigue, high_fever, headac...   \n",
              "19  [joint_pain, vomiting, yellowish_skin, dark_ur...   \n",
              "20  [itching, fatigue, lethargy, yellowish_skin, d...   \n",
              "21  [fatigue, yellowish_skin, nausea, loss_of_appe...   \n",
              "22  [joint_pain, vomiting, fatigue, yellowish_skin...   \n",
              "23  [joint_pain, vomiting, fatigue, high_fever, ye...   \n",
              "24  [vomiting, yellowish_skin, abdominal_pain, swe...   \n",
              "25  [chills, vomiting, fatigue, weight_loss, cough...   \n",
              "26  [continuous_sneezing, chills, fatigue, cough, ...   \n",
              "27  [chills, fatigue, cough, high_fever, breathles...   \n",
              "28  [constipation, pain_during_bowel_movements, pa...   \n",
              "29   [vomiting, breathlessness, sweating, chest_pain]   \n",
              "30  [fatigue, cramps, bruising, obesity, swollen_l...   \n",
              "31  [fatigue, weight_gain, cold_hands_and_feets, m...   \n",
              "32  [fatigue, mood_swings, weight_loss, restlessne...   \n",
              "33  [vomiting, fatigue, anxiety, sweating, headach...   \n",
              "34  [joint_pain, neck_pain, knee_pain, hip_joint_p...   \n",
              "35  [muscle_weakness, stiff_neck, swelling_joints,...   \n",
              "36  [vomiting, headache, nausea, spinning_movement...   \n",
              "37  [skin_rash, pus_filled_pimples, blackheads, sc...   \n",
              "38  [burning_micturition, bladder_discomfort, foul...   \n",
              "39  [skin_rash, joint_pain, skin_peeling, silver_l...   \n",
              "40  [skin_rash, high_fever, blister, red_sore_arou...   \n",
              "\n",
              "                                            Predicted  \n",
              "0   [Fungal infection, Drug Reaction, Acne, Urinar...  \n",
              "1   [Allergy, Urinary tract infection, Fungal infe...  \n",
              "2   [GERD, Heart attack, Chronic cholestasis, Drug...  \n",
              "3   [Chronic cholestasis, Hepatitis C, hepatitis A...  \n",
              "4   [Drug Reaction, Fungal infection, Chicken pox,...  \n",
              "5   [Peptic ulcer diseae, Chronic cholestasis, hep...  \n",
              "6   [AIDS, Impetigo, Bronchial Asthma, Malaria, Ty...  \n",
              "7   [Diabetes , Hypoglycemia, Acne, Paralysis (bra...  \n",
              "8   [Gastroenteritis, (vertigo) Paroymsal  Positio...  \n",
              "9   [Bronchial Asthma, Pneumonia, Hepatitis C, Hea...  \n",
              "10  [Hypertension , Cervical spondylosis, Paralysi...  \n",
              "11  [Migraine, GERD, Paralysis (brain hemorrhage),...  \n",
              "12  [Cervical spondylosis, Hypertension , Drug Rea...  \n",
              "13  [Paralysis (brain hemorrhage), (vertigo) Paroy...  \n",
              "14  [Jaundice, Hepatitis D, Hepatitis E, Hepatitis...  \n",
              "15  [Malaria, Typhoid, (vertigo) Paroymsal  Positi...  \n",
              "16  [Chicken pox, Drug Reaction, Hepatitis B, Deng...  \n",
              "17  [Dengue, Chicken pox, Malaria, Hepatitis E, Ps...  \n",
              "18  [Typhoid, Malaria, (vertigo) Paroymsal  Positi...  \n",
              "19  [hepatitis A, Hepatitis D, Chronic cholestasis...  \n",
              "20  [Hepatitis B, Hepatitis D, Hepatitis C, Jaundi...  \n",
              "21  [Hepatitis C, Hepatitis D, Chronic cholestasis...  \n",
              "22  [Hepatitis D, hepatitis A, Hepatitis C, Hepati...  \n",
              "23  [Hepatitis E, Hepatitis D, Hepatitis C, Jaundi...  \n",
              "24  [Alcoholic hepatitis, Chronic cholestasis, Hep...  \n",
              "25  [Tuberculosis, Pneumonia, Heart attack, Bronch...  \n",
              "26  [Common Cold, Tuberculosis, Allergy, Urinary t...  \n",
              "27  [Pneumonia, Bronchial Asthma, Tuberculosis, He...  \n",
              "28  [Dimorphic hemmorhoids(piles), Typhoid, GERD, ...  \n",
              "29  [Heart attack, Pneumonia, GERD, Bronchial Asth...  \n",
              "30  [Varicose veins, Acne, Urinary tract infection...  \n",
              "31  [Hypothyroidism, Hepatitis B, Hypertension , I...  \n",
              "32  [Hyperthyroidism, Hypoglycemia, Heart attack, ...  \n",
              "33  [Hypoglycemia, Paralysis (brain hemorrhage), M...  \n",
              "34  [Osteoarthristis, Fungal infection, Drug React...  \n",
              "35  [Arthritis, Acne, Impetigo, Fungal infection, ...  \n",
              "36  [(vertigo) Paroymsal  Positional Vertigo, Para...  \n",
              "37  [Acne, Fungal infection, Impetigo, Arthritis, ...  \n",
              "38  [Urinary tract infection, Osteoarthristis, Acn...  \n",
              "39       [Psoriasis, Dengue, AIDS, Acne, Chicken pox]  \n",
              "40  [Impetigo, AIDS, Acne, Varicose veins, Fungal ...  "
            ],
            "text/html": [
              "\n",
              "  <div id=\"df-e7e0c1c7-ed95-4ef9-8056-02b9e4a3b853\">\n",
              "    <div class=\"colab-df-container\">\n",
              "      <div>\n",
              "<style scoped>\n",
              "    .dataframe tbody tr th:only-of-type {\n",
              "        vertical-align: middle;\n",
              "    }\n",
              "\n",
              "    .dataframe tbody tr th {\n",
              "        vertical-align: top;\n",
              "    }\n",
              "\n",
              "    .dataframe thead th {\n",
              "        text-align: right;\n",
              "    }\n",
              "</style>\n",
              "<table border=\"1\" class=\"dataframe\">\n",
              "  <thead>\n",
              "    <tr style=\"text-align: right;\">\n",
              "      <th></th>\n",
              "      <th>Symptoms</th>\n",
              "      <th>Predicted</th>\n",
              "    </tr>\n",
              "  </thead>\n",
              "  <tbody>\n",
              "    <tr>\n",
              "      <th>0</th>\n",
              "      <td>[itching, skin_rash, nodal_skin_eruptions, dis...</td>\n",
              "      <td>[Fungal infection, Drug Reaction, Acne, Urinar...</td>\n",
              "    </tr>\n",
              "    <tr>\n",
              "      <th>1</th>\n",
              "      <td>[continuous_sneezing, shivering, chills, water...</td>\n",
              "      <td>[Allergy, Urinary tract infection, Fungal infe...</td>\n",
              "    </tr>\n",
              "    <tr>\n",
              "      <th>2</th>\n",
              "      <td>[stomach_pain, acidity, ulcers_on_tongue, vomi...</td>\n",
              "      <td>[GERD, Heart attack, Chronic cholestasis, Drug...</td>\n",
              "    </tr>\n",
              "    <tr>\n",
              "      <th>3</th>\n",
              "      <td>[itching, vomiting, yellowish_skin, nausea, lo...</td>\n",
              "      <td>[Chronic cholestasis, Hepatitis C, hepatitis A...</td>\n",
              "    </tr>\n",
              "    <tr>\n",
              "      <th>4</th>\n",
              "      <td>[itching, skin_rash, stomach_pain, burning_mic...</td>\n",
              "      <td>[Drug Reaction, Fungal infection, Chicken pox,...</td>\n",
              "    </tr>\n",
              "    <tr>\n",
              "      <th>5</th>\n",
              "      <td>[vomiting, indigestion, loss_of_appetite, abdo...</td>\n",
              "      <td>[Peptic ulcer diseae, Chronic cholestasis, hep...</td>\n",
              "    </tr>\n",
              "    <tr>\n",
              "      <th>6</th>\n",
              "      <td>[muscle_wasting, patches_in_throat, high_fever...</td>\n",
              "      <td>[AIDS, Impetigo, Bronchial Asthma, Malaria, Ty...</td>\n",
              "    </tr>\n",
              "    <tr>\n",
              "      <th>7</th>\n",
              "      <td>[fatigue, weight_loss, restlessness, lethargy,...</td>\n",
              "      <td>[Diabetes , Hypoglycemia, Acne, Paralysis (bra...</td>\n",
              "    </tr>\n",
              "    <tr>\n",
              "      <th>8</th>\n",
              "      <td>[vomiting, sunken_eyes, dehydration, diarrhoea]</td>\n",
              "      <td>[Gastroenteritis, (vertigo) Paroymsal  Positio...</td>\n",
              "    </tr>\n",
              "    <tr>\n",
              "      <th>9</th>\n",
              "      <td>[fatigue, cough, high_fever, breathlessness, f...</td>\n",
              "      <td>[Bronchial Asthma, Pneumonia, Hepatitis C, Hea...</td>\n",
              "    </tr>\n",
              "    <tr>\n",
              "      <th>10</th>\n",
              "      <td>[headache, chest_pain, dizziness, loss_of_bala...</td>\n",
              "      <td>[Hypertension , Cervical spondylosis, Paralysi...</td>\n",
              "    </tr>\n",
              "    <tr>\n",
              "      <th>11</th>\n",
              "      <td>[acidity, indigestion, headache, blurred_and_d...</td>\n",
              "      <td>[Migraine, GERD, Paralysis (brain hemorrhage),...</td>\n",
              "    </tr>\n",
              "    <tr>\n",
              "      <th>12</th>\n",
              "      <td>[back_pain, weakness_in_limbs, neck_pain, dizz...</td>\n",
              "      <td>[Cervical spondylosis, Hypertension , Drug Rea...</td>\n",
              "    </tr>\n",
              "    <tr>\n",
              "      <th>13</th>\n",
              "      <td>[vomiting, headache, weakness_of_one_body_side...</td>\n",
              "      <td>[Paralysis (brain hemorrhage), (vertigo) Paroy...</td>\n",
              "    </tr>\n",
              "    <tr>\n",
              "      <th>14</th>\n",
              "      <td>[itching, vomiting, fatigue, weight_loss, high...</td>\n",
              "      <td>[Jaundice, Hepatitis D, Hepatitis E, Hepatitis...</td>\n",
              "    </tr>\n",
              "    <tr>\n",
              "      <th>15</th>\n",
              "      <td>[chills, vomiting, high_fever, sweating, heada...</td>\n",
              "      <td>[Malaria, Typhoid, (vertigo) Paroymsal  Positi...</td>\n",
              "    </tr>\n",
              "    <tr>\n",
              "      <th>16</th>\n",
              "      <td>[itching, skin_rash, fatigue, lethargy, high_f...</td>\n",
              "      <td>[Chicken pox, Drug Reaction, Hepatitis B, Deng...</td>\n",
              "    </tr>\n",
              "    <tr>\n",
              "      <th>17</th>\n",
              "      <td>[skin_rash, chills, joint_pain, vomiting, fati...</td>\n",
              "      <td>[Dengue, Chicken pox, Malaria, Hepatitis E, Ps...</td>\n",
              "    </tr>\n",
              "    <tr>\n",
              "      <th>18</th>\n",
              "      <td>[chills, vomiting, fatigue, high_fever, headac...</td>\n",
              "      <td>[Typhoid, Malaria, (vertigo) Paroymsal  Positi...</td>\n",
              "    </tr>\n",
              "    <tr>\n",
              "      <th>19</th>\n",
              "      <td>[joint_pain, vomiting, yellowish_skin, dark_ur...</td>\n",
              "      <td>[hepatitis A, Hepatitis D, Chronic cholestasis...</td>\n",
              "    </tr>\n",
              "    <tr>\n",
              "      <th>20</th>\n",
              "      <td>[itching, fatigue, lethargy, yellowish_skin, d...</td>\n",
              "      <td>[Hepatitis B, Hepatitis D, Hepatitis C, Jaundi...</td>\n",
              "    </tr>\n",
              "    <tr>\n",
              "      <th>21</th>\n",
              "      <td>[fatigue, yellowish_skin, nausea, loss_of_appe...</td>\n",
              "      <td>[Hepatitis C, Hepatitis D, Chronic cholestasis...</td>\n",
              "    </tr>\n",
              "    <tr>\n",
              "      <th>22</th>\n",
              "      <td>[joint_pain, vomiting, fatigue, yellowish_skin...</td>\n",
              "      <td>[Hepatitis D, hepatitis A, Hepatitis C, Hepati...</td>\n",
              "    </tr>\n",
              "    <tr>\n",
              "      <th>23</th>\n",
              "      <td>[joint_pain, vomiting, fatigue, high_fever, ye...</td>\n",
              "      <td>[Hepatitis E, Hepatitis D, Hepatitis C, Jaundi...</td>\n",
              "    </tr>\n",
              "    <tr>\n",
              "      <th>24</th>\n",
              "      <td>[vomiting, yellowish_skin, abdominal_pain, swe...</td>\n",
              "      <td>[Alcoholic hepatitis, Chronic cholestasis, Hep...</td>\n",
              "    </tr>\n",
              "    <tr>\n",
              "      <th>25</th>\n",
              "      <td>[chills, vomiting, fatigue, weight_loss, cough...</td>\n",
              "      <td>[Tuberculosis, Pneumonia, Heart attack, Bronch...</td>\n",
              "    </tr>\n",
              "    <tr>\n",
              "      <th>26</th>\n",
              "      <td>[continuous_sneezing, chills, fatigue, cough, ...</td>\n",
              "      <td>[Common Cold, Tuberculosis, Allergy, Urinary t...</td>\n",
              "    </tr>\n",
              "    <tr>\n",
              "      <th>27</th>\n",
              "      <td>[chills, fatigue, cough, high_fever, breathles...</td>\n",
              "      <td>[Pneumonia, Bronchial Asthma, Tuberculosis, He...</td>\n",
              "    </tr>\n",
              "    <tr>\n",
              "      <th>28</th>\n",
              "      <td>[constipation, pain_during_bowel_movements, pa...</td>\n",
              "      <td>[Dimorphic hemmorhoids(piles), Typhoid, GERD, ...</td>\n",
              "    </tr>\n",
              "    <tr>\n",
              "      <th>29</th>\n",
              "      <td>[vomiting, breathlessness, sweating, chest_pain]</td>\n",
              "      <td>[Heart attack, Pneumonia, GERD, Bronchial Asth...</td>\n",
              "    </tr>\n",
              "    <tr>\n",
              "      <th>30</th>\n",
              "      <td>[fatigue, cramps, bruising, obesity, swollen_l...</td>\n",
              "      <td>[Varicose veins, Acne, Urinary tract infection...</td>\n",
              "    </tr>\n",
              "    <tr>\n",
              "      <th>31</th>\n",
              "      <td>[fatigue, weight_gain, cold_hands_and_feets, m...</td>\n",
              "      <td>[Hypothyroidism, Hepatitis B, Hypertension , I...</td>\n",
              "    </tr>\n",
              "    <tr>\n",
              "      <th>32</th>\n",
              "      <td>[fatigue, mood_swings, weight_loss, restlessne...</td>\n",
              "      <td>[Hyperthyroidism, Hypoglycemia, Heart attack, ...</td>\n",
              "    </tr>\n",
              "    <tr>\n",
              "      <th>33</th>\n",
              "      <td>[vomiting, fatigue, anxiety, sweating, headach...</td>\n",
              "      <td>[Hypoglycemia, Paralysis (brain hemorrhage), M...</td>\n",
              "    </tr>\n",
              "    <tr>\n",
              "      <th>34</th>\n",
              "      <td>[joint_pain, neck_pain, knee_pain, hip_joint_p...</td>\n",
              "      <td>[Osteoarthristis, Fungal infection, Drug React...</td>\n",
              "    </tr>\n",
              "    <tr>\n",
              "      <th>35</th>\n",
              "      <td>[muscle_weakness, stiff_neck, swelling_joints,...</td>\n",
              "      <td>[Arthritis, Acne, Impetigo, Fungal infection, ...</td>\n",
              "    </tr>\n",
              "    <tr>\n",
              "      <th>36</th>\n",
              "      <td>[vomiting, headache, nausea, spinning_movement...</td>\n",
              "      <td>[(vertigo) Paroymsal  Positional Vertigo, Para...</td>\n",
              "    </tr>\n",
              "    <tr>\n",
              "      <th>37</th>\n",
              "      <td>[skin_rash, pus_filled_pimples, blackheads, sc...</td>\n",
              "      <td>[Acne, Fungal infection, Impetigo, Arthritis, ...</td>\n",
              "    </tr>\n",
              "    <tr>\n",
              "      <th>38</th>\n",
              "      <td>[burning_micturition, bladder_discomfort, foul...</td>\n",
              "      <td>[Urinary tract infection, Osteoarthristis, Acn...</td>\n",
              "    </tr>\n",
              "    <tr>\n",
              "      <th>39</th>\n",
              "      <td>[skin_rash, joint_pain, skin_peeling, silver_l...</td>\n",
              "      <td>[Psoriasis, Dengue, AIDS, Acne, Chicken pox]</td>\n",
              "    </tr>\n",
              "    <tr>\n",
              "      <th>40</th>\n",
              "      <td>[skin_rash, high_fever, blister, red_sore_arou...</td>\n",
              "      <td>[Impetigo, AIDS, Acne, Varicose veins, Fungal ...</td>\n",
              "    </tr>\n",
              "  </tbody>\n",
              "</table>\n",
              "</div>\n",
              "      <button class=\"colab-df-convert\" onclick=\"convertToInteractive('df-e7e0c1c7-ed95-4ef9-8056-02b9e4a3b853')\"\n",
              "              title=\"Convert this dataframe to an interactive table.\"\n",
              "              style=\"display:none;\">\n",
              "        \n",
              "  <svg xmlns=\"http://www.w3.org/2000/svg\" height=\"24px\"viewBox=\"0 0 24 24\"\n",
              "       width=\"24px\">\n",
              "    <path d=\"M0 0h24v24H0V0z\" fill=\"none\"/>\n",
              "    <path d=\"M18.56 5.44l.94 2.06.94-2.06 2.06-.94-2.06-.94-.94-2.06-.94 2.06-2.06.94zm-11 1L8.5 8.5l.94-2.06 2.06-.94-2.06-.94L8.5 2.5l-.94 2.06-2.06.94zm10 10l.94 2.06.94-2.06 2.06-.94-2.06-.94-.94-2.06-.94 2.06-2.06.94z\"/><path d=\"M17.41 7.96l-1.37-1.37c-.4-.4-.92-.59-1.43-.59-.52 0-1.04.2-1.43.59L10.3 9.45l-7.72 7.72c-.78.78-.78 2.05 0 2.83L4 21.41c.39.39.9.59 1.41.59.51 0 1.02-.2 1.41-.59l7.78-7.78 2.81-2.81c.8-.78.8-2.07 0-2.86zM5.41 20L4 18.59l7.72-7.72 1.47 1.35L5.41 20z\"/>\n",
              "  </svg>\n",
              "      </button>\n",
              "      \n",
              "  <style>\n",
              "    .colab-df-container {\n",
              "      display:flex;\n",
              "      flex-wrap:wrap;\n",
              "      gap: 12px;\n",
              "    }\n",
              "\n",
              "    .colab-df-convert {\n",
              "      background-color: #E8F0FE;\n",
              "      border: none;\n",
              "      border-radius: 50%;\n",
              "      cursor: pointer;\n",
              "      display: none;\n",
              "      fill: #1967D2;\n",
              "      height: 32px;\n",
              "      padding: 0 0 0 0;\n",
              "      width: 32px;\n",
              "    }\n",
              "\n",
              "    .colab-df-convert:hover {\n",
              "      background-color: #E2EBFA;\n",
              "      box-shadow: 0px 1px 2px rgba(60, 64, 67, 0.3), 0px 1px 3px 1px rgba(60, 64, 67, 0.15);\n",
              "      fill: #174EA6;\n",
              "    }\n",
              "\n",
              "    [theme=dark] .colab-df-convert {\n",
              "      background-color: #3B4455;\n",
              "      fill: #D2E3FC;\n",
              "    }\n",
              "\n",
              "    [theme=dark] .colab-df-convert:hover {\n",
              "      background-color: #434B5C;\n",
              "      box-shadow: 0px 1px 3px 1px rgba(0, 0, 0, 0.15);\n",
              "      filter: drop-shadow(0px 1px 2px rgba(0, 0, 0, 0.3));\n",
              "      fill: #FFFFFF;\n",
              "    }\n",
              "  </style>\n",
              "\n",
              "      <script>\n",
              "        const buttonEl =\n",
              "          document.querySelector('#df-e7e0c1c7-ed95-4ef9-8056-02b9e4a3b853 button.colab-df-convert');\n",
              "        buttonEl.style.display =\n",
              "          google.colab.kernel.accessAllowed ? 'block' : 'none';\n",
              "\n",
              "        async function convertToInteractive(key) {\n",
              "          const element = document.querySelector('#df-e7e0c1c7-ed95-4ef9-8056-02b9e4a3b853');\n",
              "          const dataTable =\n",
              "            await google.colab.kernel.invokeFunction('convertToInteractive',\n",
              "                                                     [key], {});\n",
              "          if (!dataTable) return;\n",
              "\n",
              "          const docLinkHtml = 'Like what you see? Visit the ' +\n",
              "            '<a target=\"_blank\" href=https://colab.research.google.com/notebooks/data_table.ipynb>data table notebook</a>'\n",
              "            + ' to learn more about interactive tables.';\n",
              "          element.innerHTML = '';\n",
              "          dataTable['output_type'] = 'display_data';\n",
              "          await google.colab.output.renderOutput(dataTable, element);\n",
              "          const docLink = document.createElement('div');\n",
              "          docLink.innerHTML = docLinkHtml;\n",
              "          element.appendChild(docLink);\n",
              "        }\n",
              "      </script>\n",
              "    </div>\n",
              "  </div>\n",
              "  "
            ]
          },
          "metadata": {},
          "execution_count": 74
        }
      ],
      "source": [
        "result"
      ]
    },
    {
      "cell_type": "code",
      "execution_count": null,
      "metadata": {
        "colab": {
          "base_uri": "https://localhost:8080/"
        },
        "id": "3XU1JukivBMz",
        "outputId": "5b169a62-4454-4a3c-ac3e-36a282971f54"
      },
      "outputs": [
        {
          "output_type": "stream",
          "name": "stdout",
          "text": [
            "( 1 )  Symptoms:  itching, skin_rash, nodal_skin_eruptions, dischromic _patches, \n",
            "\n",
            "        Predictions: Fungal infection, Drug Reaction, Acne, Urinary tract infection, Chicken pox, \n",
            "\n",
            "( 2 )  Symptoms:  continuous_sneezing, shivering, chills, watering_from_eyes, \n",
            "\n",
            "        Predictions: Allergy, Urinary tract infection, Fungal infection, Osteoarthristis, Malaria, \n",
            "\n",
            "( 3 )  Symptoms:  stomach_pain, acidity, ulcers_on_tongue, vomiting, cough, chest_pain, \n",
            "\n",
            "        Predictions: GERD, Heart attack, Chronic cholestasis, Drug Reaction, Migraine, \n",
            "\n",
            "( 4 )  Symptoms:  itching, vomiting, yellowish_skin, nausea, loss_of_appetite, abdominal_pain, yellowing_of_eyes, \n",
            "\n",
            "        Predictions: Chronic cholestasis, Hepatitis C, hepatitis A, Hepatitis D, Jaundice, \n",
            "\n",
            "( 5 )  Symptoms:  itching, skin_rash, stomach_pain, burning_micturition, spotting_ urination, \n",
            "\n",
            "        Predictions: Drug Reaction, Fungal infection, Chicken pox, Urinary tract infection, Cervical spondylosis, \n",
            "\n",
            "( 6 )  Symptoms:  vomiting, indigestion, loss_of_appetite, abdominal_pain, passage_of_gases, internal_itching, \n",
            "\n",
            "        Predictions: Peptic ulcer diseae, Chronic cholestasis, hepatitis A, Hepatitis C, Gastroenteritis, \n",
            "\n",
            "( 7 )  Symptoms:  muscle_wasting, patches_in_throat, high_fever, extra_marital_contacts, \n",
            "\n",
            "        Predictions: AIDS, Impetigo, Bronchial Asthma, Malaria, Typhoid, \n",
            "\n",
            "( 8 )  Symptoms:  fatigue, weight_loss, restlessness, lethargy, irregular_sugar_level, blurred_and_distorted_vision, obesity, excessive_hunger, increased_appetite, polyuria, \n",
            "\n",
            "        Predictions: Diabetes , Hypoglycemia, Acne, Paralysis (brain hemorrhage), Hepatitis C, \n",
            "\n",
            "( 9 )  Symptoms:  vomiting, sunken_eyes, dehydration, diarrhoea, \n",
            "\n",
            "        Predictions: Gastroenteritis, (vertigo) Paroymsal  Positional Vertigo, Malaria, Paralysis (brain hemorrhage), Dengue, \n",
            "\n",
            "( 10 )  Symptoms:  fatigue, cough, high_fever, breathlessness, family_history, mucoid_sputum, \n",
            "\n",
            "        Predictions: Bronchial Asthma, Pneumonia, Hepatitis C, Heart attack, AIDS, \n",
            "\n",
            "( 11 )  Symptoms:  headache, chest_pain, dizziness, loss_of_balance, lack_of_concentration, \n",
            "\n",
            "        Predictions: Hypertension , Cervical spondylosis, Paralysis (brain hemorrhage), (vertigo) Paroymsal  Positional Vertigo, Malaria, \n",
            "\n",
            "( 12 )  Symptoms:  acidity, indigestion, headache, blurred_and_distorted_vision, excessive_hunger, stiff_neck, depression, irritability, visual_disturbances, \n",
            "\n",
            "        Predictions: Migraine, GERD, Paralysis (brain hemorrhage), Arthritis, Peptic ulcer diseae, \n",
            "\n",
            "( 13 )  Symptoms:  back_pain, weakness_in_limbs, neck_pain, dizziness, loss_of_balance, \n",
            "\n",
            "        Predictions: Cervical spondylosis, Hypertension , Drug Reaction, (vertigo) Paroymsal  Positional Vertigo, Dengue, \n",
            "\n",
            "( 14 )  Symptoms:  vomiting, headache, weakness_of_one_body_side, altered_sensorium, \n",
            "\n",
            "        Predictions: Paralysis (brain hemorrhage), (vertigo) Paroymsal  Positional Vertigo, Malaria, Gastroenteritis, Hypertension , \n",
            "\n",
            "( 15 )  Symptoms:  itching, vomiting, fatigue, weight_loss, high_fever, yellowish_skin, dark_urine, abdominal_pain, \n",
            "\n",
            "        Predictions: Jaundice, Hepatitis D, Hepatitis E, Hepatitis B, Chronic cholestasis, \n",
            "\n",
            "( 16 )  Symptoms:  chills, vomiting, high_fever, sweating, headache, nausea, diarrhoea, muscle_pain, \n",
            "\n",
            "        Predictions: Malaria, Typhoid, (vertigo) Paroymsal  Positional Vertigo, Gastroenteritis, Paralysis (brain hemorrhage), \n",
            "\n",
            "( 17 )  Symptoms:  itching, skin_rash, fatigue, lethargy, high_fever, headache, loss_of_appetite, mild_fever, swelled_lymph_nodes, malaise, red_spots_over_body, \n",
            "\n",
            "        Predictions: Chicken pox, Drug Reaction, Hepatitis B, Dengue, Tuberculosis, \n",
            "\n",
            "( 18 )  Symptoms:  skin_rash, chills, joint_pain, vomiting, fatigue, high_fever, headache, nausea, loss_of_appetite, pain_behind_the_eyes, back_pain, malaise, muscle_pain, red_spots_over_body, \n",
            "\n",
            "        Predictions: Dengue, Chicken pox, Malaria, Hepatitis E, Psoriasis, \n",
            "\n",
            "( 19 )  Symptoms:  chills, vomiting, fatigue, high_fever, headache, nausea, constipation, abdominal_pain, diarrhoea, toxic_look_(typhos), belly_pain, \n",
            "\n",
            "        Predictions: Typhoid, Malaria, (vertigo) Paroymsal  Positional Vertigo, Chronic cholestasis, Dengue, \n",
            "\n",
            "( 20 )  Symptoms:  joint_pain, vomiting, yellowish_skin, dark_urine, nausea, loss_of_appetite, abdominal_pain, diarrhoea, mild_fever, yellowing_of_eyes, muscle_pain, \n",
            "\n",
            "        Predictions: hepatitis A, Hepatitis D, Chronic cholestasis, Hepatitis C, Hepatitis E, \n",
            "\n",
            "( 21 )  Symptoms:  itching, fatigue, lethargy, yellowish_skin, dark_urine, loss_of_appetite, abdominal_pain, yellow_urine, yellowing_of_eyes, malaise, receiving_blood_transfusion, receiving_unsterile_injections, \n",
            "\n",
            "        Predictions: Hepatitis B, Hepatitis D, Hepatitis C, Jaundice, Hepatitis E, \n",
            "\n",
            "( 22 )  Symptoms:  fatigue, yellowish_skin, nausea, loss_of_appetite, yellowing_of_eyes, family_history, \n",
            "\n",
            "        Predictions: Hepatitis C, Hepatitis D, Chronic cholestasis, hepatitis A, Bronchial Asthma, \n",
            "\n",
            "( 23 )  Symptoms:  joint_pain, vomiting, fatigue, yellowish_skin, dark_urine, nausea, loss_of_appetite, abdominal_pain, yellowing_of_eyes, \n",
            "\n",
            "        Predictions: Hepatitis D, hepatitis A, Hepatitis C, Hepatitis E, Chronic cholestasis, \n",
            "\n",
            "( 24 )  Symptoms:  joint_pain, vomiting, fatigue, high_fever, yellowish_skin, dark_urine, nausea, loss_of_appetite, abdominal_pain, yellowing_of_eyes, acute_liver_failure, coma, stomach_bleeding, \n",
            "\n",
            "        Predictions: Hepatitis E, Hepatitis D, Hepatitis C, Jaundice, hepatitis A, \n",
            "\n",
            "( 25 )  Symptoms:  vomiting, yellowish_skin, abdominal_pain, swelling_of_stomach, distention_of_abdomen, history_of_alcohol_consumption, fluid_overload.1, \n",
            "\n",
            "        Predictions: Alcoholic hepatitis, Chronic cholestasis, Hepatitis C, hepatitis A, Allergy, \n",
            "\n",
            "( 26 )  Symptoms:  chills, vomiting, fatigue, weight_loss, cough, high_fever, breathlessness, sweating, loss_of_appetite, mild_fever, yellowing_of_eyes, swelled_lymph_nodes, malaise, phlegm, chest_pain, blood_in_sputum, \n",
            "\n",
            "        Predictions: Tuberculosis, Pneumonia, Heart attack, Bronchial Asthma, Hepatitis C, \n",
            "\n",
            "( 27 )  Symptoms:  continuous_sneezing, chills, fatigue, cough, high_fever, headache, swelled_lymph_nodes, malaise, phlegm, throat_irritation, redness_of_eyes, sinus_pressure, runny_nose, congestion, chest_pain, loss_of_smell, muscle_pain, \n",
            "\n",
            "        Predictions: Common Cold, Tuberculosis, Allergy, Urinary tract infection, Chicken pox, \n",
            "\n",
            "( 28 )  Symptoms:  chills, fatigue, cough, high_fever, breathlessness, sweating, malaise, phlegm, chest_pain, fast_heart_rate, rusty_sputum, \n",
            "\n",
            "        Predictions: Pneumonia, Bronchial Asthma, Tuberculosis, Heart attack, Typhoid, \n",
            "\n",
            "( 29 )  Symptoms:  constipation, pain_during_bowel_movements, pain_in_anal_region, bloody_stool, irritation_in_anus, \n",
            "\n",
            "        Predictions: Dimorphic hemmorhoids(piles), Typhoid, GERD, Arthritis, Fungal infection, \n",
            "\n",
            "( 30 )  Symptoms:  vomiting, breathlessness, sweating, chest_pain, \n",
            "\n",
            "        Predictions: Heart attack, Pneumonia, GERD, Bronchial Asthma, Malaria, \n",
            "\n",
            "( 31 )  Symptoms:  fatigue, cramps, bruising, obesity, swollen_legs, swollen_blood_vessels, prominent_veins_on_calf, \n",
            "\n",
            "        Predictions: Varicose veins, Acne, Urinary tract infection, AIDS, Impetigo, \n",
            "\n",
            "( 32 )  Symptoms:  fatigue, weight_gain, cold_hands_and_feets, mood_swings, lethargy, dizziness, puffy_face_and_eyes, enlarged_thyroid, brittle_nails, swollen_extremeties, depression, irritability, abnormal_menstruation, \n",
            "\n",
            "        Predictions: Hypothyroidism, Hepatitis B, Hypertension , Impetigo, Heart attack, \n",
            "\n",
            "( 33 )  Symptoms:  fatigue, mood_swings, weight_loss, restlessness, sweating, diarrhoea, fast_heart_rate, excessive_hunger, muscle_weakness, irritability, abnormal_menstruation, \n",
            "\n",
            "        Predictions: Hyperthyroidism, Hypoglycemia, Heart attack, Arthritis, Bronchial Asthma, \n",
            "\n",
            "( 34 )  Symptoms:  vomiting, fatigue, anxiety, sweating, headache, nausea, blurred_and_distorted_vision, excessive_hunger, drying_and_tingling_lips, slurred_speech, irritability, palpitations, \n",
            "\n",
            "        Predictions: Hypoglycemia, Paralysis (brain hemorrhage), Migraine, (vertigo) Paroymsal  Positional Vertigo, Malaria, \n",
            "\n",
            "( 35 )  Symptoms:  joint_pain, neck_pain, knee_pain, hip_joint_pain, swelling_joints, painful_walking, \n",
            "\n",
            "        Predictions: Osteoarthristis, Fungal infection, Drug Reaction, Psoriasis, Allergy, \n",
            "\n",
            "( 36 )  Symptoms:  muscle_weakness, stiff_neck, swelling_joints, movement_stiffness, painful_walking, \n",
            "\n",
            "        Predictions: Arthritis, Acne, Impetigo, Fungal infection, Malaria, \n",
            "\n",
            "( 37 )  Symptoms:  vomiting, headache, nausea, spinning_movements, loss_of_balance, unsteadiness, \n",
            "\n",
            "        Predictions: (vertigo) Paroymsal  Positional Vertigo, Paralysis (brain hemorrhage), Malaria, Hypertension , Typhoid, \n",
            "\n",
            "( 38 )  Symptoms:  skin_rash, pus_filled_pimples, blackheads, scurring, \n",
            "\n",
            "        Predictions: Acne, Fungal infection, Impetigo, Arthritis, Psoriasis, \n",
            "\n",
            "( 39 )  Symptoms:  burning_micturition, bladder_discomfort, foul_smell_of urine, continuous_feel_of_urine, \n",
            "\n",
            "        Predictions: Urinary tract infection, Osteoarthristis, Acne, Fungal infection, Allergy, \n",
            "\n",
            "( 40 )  Symptoms:  skin_rash, joint_pain, skin_peeling, silver_like_dusting, small_dents_in_nails, inflammatory_nails, \n",
            "\n",
            "        Predictions: Psoriasis, Dengue, AIDS, Acne, Chicken pox, \n",
            "\n",
            "( 41 )  Symptoms:  skin_rash, high_fever, blister, red_sore_around_nose, yellow_crust_ooze, \n",
            "\n",
            "        Predictions: Impetigo, AIDS, Acne, Varicose veins, Fungal infection, \n",
            "\n"
          ]
        }
      ],
      "source": [
        "for i in range(0,41):\n",
        "    print(\"(\",i+1,\")\",\" Symptoms: \",end=\" \")\n",
        "    for j in all_symptoms[i]:\n",
        "        print(j,end=\", \")\n",
        "    print(\"\\n\")\n",
        "    print(\"       \",\"Predictions:\",end=\" \")\n",
        "    for j in top_five_diseases[i]:\n",
        "        print(j,end=\", \")\n",
        "    print(\"\\n\")"
      ]
    },
    {
      "cell_type": "markdown",
      "metadata": {
        "id": "aiWR_a9BgYxK"
      },
      "source": [
        "##  VI- SEVERITY / DESCRIPTION / PRECAUTION"
      ]
    },
    {
      "cell_type": "code",
      "execution_count": null,
      "metadata": {
        "id": "FXDE1G__gYxK"
      },
      "outputs": [],
      "source": [
        "severityDictionary=dict()\n",
        "description_list = dict()\n",
        "precautionDictionary=dict()\n",
        "\n",
        "def getDescription():\n",
        "    global description_list\n",
        "    with open('symptom_Description.csv') as csv_file:\n",
        "        csv_reader = csv.reader(csv_file, delimiter=',')\n",
        "        line_count = 0\n",
        "        for row in csv_reader:\n",
        "            _description={row[0]:row[1]}\n",
        "            description_list.update(_description)\n",
        "\n",
        "\n",
        "\n",
        "\n",
        "def getSeverityDict():\n",
        "    global severityDictionary\n",
        "    with open('symptom_severity.csv') as csv_file:\n",
        "\n",
        "        csv_reader = csv.reader(csv_file, delimiter=',')\n",
        "        line_count = 0\n",
        "        try:\n",
        "            for row in csv_reader:\n",
        "                _diction={row[0]:int(row[1])}\n",
        "                severityDictionary.update(_diction)\n",
        "        except:\n",
        "            pass\n",
        "\n",
        "\n",
        "def getprecautionDict():\n",
        "    global precautionDictionary\n",
        "    with open('symptom_precaution.csv') as csv_file:\n",
        "\n",
        "        csv_reader = csv.reader(csv_file, delimiter=',')\n",
        "        line_count = 0\n",
        "        for row in csv_reader:\n",
        "            _prec={row[0]:[row[1],row[2],row[3],row[4]]}\n",
        "            precautionDictionary.update(_prec)\n"
      ]
    },
    {
      "cell_type": "code",
      "execution_count": null,
      "metadata": {
        "id": "TWcctxqWgYxK"
      },
      "outputs": [],
      "source": [
        "getSeverityDict()\n",
        "getprecautionDict()\n",
        "getDescription()"
      ]
    },
    {
      "cell_type": "code",
      "execution_count": null,
      "metadata": {
        "id": "eFJGs0ZegYxK",
        "colab": {
          "base_uri": "https://localhost:8080/"
        },
        "outputId": "9ff4b248-2a37-47d5-e781-e129799169be"
      },
      "outputs": [
        {
          "output_type": "execute_result",
          "data": {
            "text/plain": [
              "{'itching': 1,\n",
              " 'skin_rash': 3,\n",
              " 'nodal_skin_eruptions': 4,\n",
              " 'continuous_sneezing': 4,\n",
              " 'shivering': 5,\n",
              " 'chills': 3,\n",
              " 'joint_pain': 3,\n",
              " 'stomach_pain': 5,\n",
              " 'acidity': 3,\n",
              " 'ulcers_on_tongue': 4,\n",
              " 'muscle_wasting': 3,\n",
              " 'vomiting': 5,\n",
              " 'burning_micturition': 6,\n",
              " 'spotting_urination': 6,\n",
              " 'fatigue': 4,\n",
              " 'weight_gain': 3,\n",
              " 'anxiety': 4,\n",
              " 'cold_hands_and_feets': 5,\n",
              " 'mood_swings': 3,\n",
              " 'weight_loss': 3,\n",
              " 'restlessness': 5,\n",
              " 'lethargy': 2,\n",
              " 'patches_in_throat': 6,\n",
              " 'irregular_sugar_level': 5,\n",
              " 'cough': 4,\n",
              " 'high_fever': 7,\n",
              " 'sunken_eyes': 3,\n",
              " 'breathlessness': 4,\n",
              " 'sweating': 3,\n",
              " 'dehydration': 4,\n",
              " 'indigestion': 5,\n",
              " 'headache': 3,\n",
              " 'yellowish_skin': 3,\n",
              " 'dark_urine': 4,\n",
              " 'nausea': 5,\n",
              " 'loss_of_appetite': 4,\n",
              " 'pain_behind_the_eyes': 4,\n",
              " 'back_pain': 3,\n",
              " 'constipation': 4,\n",
              " 'abdominal_pain': 4,\n",
              " 'diarrhoea': 6,\n",
              " 'mild_fever': 5,\n",
              " 'yellow_urine': 4,\n",
              " 'yellowing_of_eyes': 4,\n",
              " 'acute_liver_failure': 6,\n",
              " 'fluid_overload': 4,\n",
              " 'swelling_of_stomach': 7,\n",
              " 'swelled_lymph_nodes': 6,\n",
              " 'malaise': 6,\n",
              " 'blurred_and_distorted_vision': 5,\n",
              " 'phlegm': 5,\n",
              " 'throat_irritation': 4,\n",
              " 'redness_of_eyes': 5,\n",
              " 'sinus_pressure': 4,\n",
              " 'runny_nose': 5,\n",
              " 'congestion': 5,\n",
              " 'chest_pain': 7,\n",
              " 'weakness_in_limbs': 7,\n",
              " 'fast_heart_rate': 5,\n",
              " 'pain_during_bowel_movements': 5,\n",
              " 'pain_in_anal_region': 6,\n",
              " 'bloody_stool': 5,\n",
              " 'irritation_in_anus': 6,\n",
              " 'neck_pain': 5,\n",
              " 'dizziness': 4,\n",
              " 'cramps': 4,\n",
              " 'bruising': 4,\n",
              " 'obesity': 4,\n",
              " 'swollen_legs': 5,\n",
              " 'swollen_blood_vessels': 5,\n",
              " 'puffy_face_and_eyes': 5,\n",
              " 'enlarged_thyroid': 6,\n",
              " 'brittle_nails': 5,\n",
              " 'swollen_extremeties': 5,\n",
              " 'excessive_hunger': 4,\n",
              " 'extra_marital_contacts': 5,\n",
              " 'drying_and_tingling_lips': 4,\n",
              " 'slurred_speech': 4,\n",
              " 'knee_pain': 3,\n",
              " 'hip_joint_pain': 2,\n",
              " 'muscle_weakness': 2,\n",
              " 'stiff_neck': 4,\n",
              " 'swelling_joints': 5,\n",
              " 'movement_stiffness': 5,\n",
              " 'spinning_movements': 6,\n",
              " 'loss_of_balance': 4,\n",
              " 'unsteadiness': 4,\n",
              " 'weakness_of_one_body_side': 4,\n",
              " 'loss_of_smell': 3,\n",
              " 'bladder_discomfort': 4,\n",
              " 'foul_smell_ofurine': 5,\n",
              " 'continuous_feel_of_urine': 6,\n",
              " 'passage_of_gases': 5,\n",
              " 'internal_itching': 4,\n",
              " 'toxic_look_(typhos)': 5,\n",
              " 'depression': 3,\n",
              " 'irritability': 2,\n",
              " 'muscle_pain': 2,\n",
              " 'altered_sensorium': 2,\n",
              " 'red_spots_over_body': 3,\n",
              " 'belly_pain': 4,\n",
              " 'abnormal_menstruation': 6,\n",
              " 'dischromic_patches': 6,\n",
              " 'watering_from_eyes': 4,\n",
              " 'increased_appetite': 5,\n",
              " 'polyuria': 4,\n",
              " 'family_history': 5,\n",
              " 'mucoid_sputum': 4,\n",
              " 'rusty_sputum': 4,\n",
              " 'lack_of_concentration': 3,\n",
              " 'visual_disturbances': 3,\n",
              " 'receiving_blood_transfusion': 5,\n",
              " 'receiving_unsterile_injections': 2,\n",
              " 'coma': 7,\n",
              " 'stomach_bleeding': 6,\n",
              " 'distention_of_abdomen': 4,\n",
              " 'history_of_alcohol_consumption': 5,\n",
              " 'blood_in_sputum': 5,\n",
              " 'prominent_veins_on_calf': 6,\n",
              " 'palpitations': 4,\n",
              " 'painful_walking': 2,\n",
              " 'pus_filled_pimples': 2,\n",
              " 'blackheads': 2,\n",
              " 'scurring': 2,\n",
              " 'skin_peeling': 3,\n",
              " 'silver_like_dusting': 2,\n",
              " 'small_dents_in_nails': 2,\n",
              " 'inflammatory_nails': 2,\n",
              " 'blister': 4,\n",
              " 'red_sore_around_nose': 2,\n",
              " 'yellow_crust_ooze': 3}"
            ]
          },
          "metadata": {},
          "execution_count": 78
        }
      ],
      "source": [
        "severityDictionary"
      ]
    },
    {
      "cell_type": "code",
      "execution_count": null,
      "metadata": {
        "id": "Z0miZXeRgYxK"
      },
      "outputs": [],
      "source": [
        "def calc_condition(exp,days):\n",
        "    sum=0\n",
        "    for item in exp:\n",
        "        if item in severityDictionary.keys():\n",
        "            sum=sum+severityDictionary[item]\n",
        "    if((sum*days)/(len(exp))>13):\n",
        "        return 1\n",
        "        print(\"You should take the consultation from doctor. \")\n",
        "    else:\n",
        "        return 0\n",
        "        print(\"It might not be that bad but you should take precautions.\")\n"
      ]
    },
    {
      "cell_type": "markdown",
      "metadata": {
        "id": "A4Cdxxt3gYxL"
      },
      "source": [
        "# Chat"
      ]
    },
    {
      "cell_type": "code",
      "execution_count": null,
      "metadata": {
        "id": "vuvpi1i5gYxL"
      },
      "outputs": [],
      "source": [
        "def getInfo():\n",
        "    # name=input(\"Name:\")\n",
        "    print(\"Your Name \\n\\t\\t\\t\\t\\t\\t\",end=\"=>\")\n",
        "    name=input(\"\")\n",
        "    print(\"hello \",name)\n",
        "    return str(name)"
      ]
    },
    {
      "cell_type": "code",
      "execution_count": null,
      "metadata": {
        "id": "YS2TJ0T2gYxL"
      },
      "outputs": [],
      "source": [
        "def related_sym(psym1):\n",
        "    if len(psym1)==1:\n",
        "        return psym1[0]\n",
        "    print(\"searches related to input: \")\n",
        "    for num,it in enumerate(psym1):\n",
        "        print(num,\")\",clean_symp(it))\n",
        "    if num!=0:\n",
        "        print(f\"Select the one you meant (0 - {num}):  \", end=\"\")\n",
        "        conf_inp = int(input(\"\"))\n",
        "    else:\n",
        "        conf_inp=0\n",
        "\n",
        "    disease_input=psym1[conf_inp]\n",
        "    return disease_input"
      ]
    },
    {
      "cell_type": "code",
      "execution_count": null,
      "metadata": {
        "id": "JLS3j93egYxL"
      },
      "outputs": [],
      "source": [
        "def main_sp(name,all_symp_col):\n",
        "    #main Idea: At least two initial sympts to start with\n",
        "    \n",
        "    #get the 1st syp ->> process it ->> check_pattern ->>> get the appropriate one (if check_pattern==1 == similar syntaxic symp found)\n",
        "    print(\"Enter the main symptom you are experiencing Mr/Ms \"+name+\"  \\n\\t\\t\\t\\t\\t\\t\",end=\"=>\")\n",
        "    sym1 = input(\"\")\n",
        "    sym1=preprocess_sym(sym1)\n",
        "    sim1,psym1=syntactic_similarity(sym1,all_symp_pr)\n",
        "    if sim1==1:\n",
        "        psym1=related_sym(psym1)\n",
        "    \n",
        "    #get the 2nd syp ->> process it ->> check_pattern ->>> get the appropriate one (if check_pattern==1 == similar syntaxic symp found)\n",
        "\n",
        "    print(\"Enter a second symptom you are experiencing Mr/Ms \"+name+\"  \\n\\t\\t\\t\\t\\t\\t\",end=\"=>\")\n",
        "    sym2=input(\"\")\n",
        "    sym2=preprocess_sym(sym2)\n",
        "    sim2,psym2=syntactic_similarity(sym2,all_symp_pr)\n",
        "    if sim2==1:\n",
        "        psym2=related_sym(psym2)\n",
        "        \n",
        "    #if check_pattern==0 no similar syntaxic symp1 or symp2 ->> try semantic similarity\n",
        "    \n",
        "    if sim1==0 or sim2==0:\n",
        "        sim1,psym1=semantic_similarity(sym1,all_symp_pr)\n",
        "        sim2,psym2=semantic_similarity(sym2,all_symp_pr)\n",
        "        \n",
        "        #if semantic sim syp1 ==0 (no symp found) ->> suggest possible data symptoms based on all data and input sym synonymes\n",
        "        if sim1==0:\n",
        "            sugg=suggest_syn(sym1)\n",
        "            print('Are you experiencing any ')\n",
        "            for res in sugg:\n",
        "                print(res)\n",
        "                inp=input('')\n",
        "                if inp==\"yes\":\n",
        "                    psym1=res\n",
        "                    sim1=1\n",
        "                    break\n",
        "                \n",
        "        #if semantic sim syp2 ==0 (no symp found) ->> suggest possible data symptoms based on all data and input sym synonymes\n",
        "        if sim2==0:\n",
        "            sugg=suggest_syn(sym2)\n",
        "            for res in sugg:\n",
        "                inp=input('Do you feel '+ res+\" ?(yes or no) \")\n",
        "                if inp==\"yes\":\n",
        "                    psym2=res\n",
        "                    sim2=1\n",
        "                    break\n",
        "        #if no syntaxic semantic and suggested sym found return None and ask for clarification\n",
        "\n",
        "        if sim1==0 and sim2==0:\n",
        "            return None,None\n",
        "        else:\n",
        "            # if at least one sym found ->> duplicate it and proceed\n",
        "            if sim1==0:\n",
        "                psym1=psym2\n",
        "            if sim2==0:\n",
        "                psym2=psym1\n",
        "    #create patient symp list\n",
        "    all_sym=[col_dict[psym1],col_dict[psym2]]\n",
        "    #predict possible diseases\n",
        "    diseases=possible_diseases(all_sym)\n",
        "    stop=False\n",
        "    print(\"Are you experiencing any \")\n",
        "    for dis in diseases:\n",
        "        print(diseases)\n",
        "        if stop==False:\n",
        "            for sym in symVONdisease(df_tr,dis):\n",
        "                if sym not in all_sym:\n",
        "                    print(clean_symp(sym)+' ?')\n",
        "                    while True:\n",
        "                        inp=input(\"\")\n",
        "                        if(inp==\"yes\" or inp==\"no\"):\n",
        "                            break\n",
        "                        else:\n",
        "                            print(\"provide proper answers i.e. (yes/no) : \",end=\"\")\n",
        "                    if inp==\"yes\":\n",
        "                        all_sym.append(sym)\n",
        "                        diseases=possible_diseases(all_sym)\n",
        "                        if len(diseases)==1:\n",
        "                            stop=True \n",
        "    return knn_clf.predict(OHV(all_sym,all_symp_col)),all_sym\n",
        "\n",
        "    \n",
        "    "
      ]
    },
    {
      "cell_type": "code",
      "execution_count": null,
      "metadata": {
        "id": "GgggGatogYxL"
      },
      "outputs": [],
      "source": [
        "def chat_sp():\n",
        "    a=True\n",
        "    while a:\n",
        "        name=getInfo()\n",
        "        result,sym=main_sp(name,all_symp_col)\n",
        "        if result == None :\n",
        "            ans3=input(\"can you specify more what you feel or tap q to stop the conversation\")\n",
        "            if ans3==\"q\":\n",
        "                a=False\n",
        "            else:\n",
        "                continue\n",
        "\n",
        "        else:\n",
        "            print(\"you may have \"+result[0])\n",
        "            print(description_list[result[0]])\n",
        "            an=input(\"how many day do you feel those symptoms ?\")\n",
        "            if calc_condition(sym,int(an))==1:\n",
        "                print(\"you should take the consultation from doctor\")\n",
        "            else : \n",
        "                print('Take following precautions : ')\n",
        "                for e in precautionDictionary[result[0]]:\n",
        "                    print(e)\n",
        "            print(\"do you need another medical consultation (yes or no)? \")\n",
        "            ans=input()\n",
        "            if ans!=\"yes\":\n",
        "                a=False\n",
        "                print(\"!!!!! thanks for using ower application !!!!!! \")\n"
      ]
    },
    {
      "cell_type": "code",
      "execution_count": null,
      "metadata": {
        "id": "DYnbZnhngYxL",
        "colab": {
          "base_uri": "https://localhost:8080/"
        },
        "outputId": "964f4613-2f64-40bc-e717-3260ed426c64"
      },
      "outputs": [
        {
          "output_type": "execute_result",
          "data": {
            "text/plain": [
              "itching                        0\n",
              "skin_rash                      1\n",
              "nodal_skin_eruptions           0\n",
              "continuous_sneezing            0\n",
              "shivering                      0\n",
              "                          ...   \n",
              "inflammatory_nails             0\n",
              "blister                        1\n",
              "red_sore_around_nose           1\n",
              "yellow_crust_ooze              1\n",
              "prognosis               Impetigo\n",
              "Name: 4919, Length: 133, dtype: object"
            ]
          },
          "metadata": {},
          "execution_count": 84
        }
      ],
      "source": [
        "df_tr.iloc[-1]"
      ]
    },
    {
      "cell_type": "code",
      "execution_count": null,
      "metadata": {
        "id": "aEfnZ3Y8gYxL",
        "colab": {
          "base_uri": "https://localhost:8080/"
        },
        "outputId": "0b1e620b-8160-474b-baa3-2b52adef9cad"
      },
      "outputs": [
        {
          "output_type": "stream",
          "name": "stderr",
          "text": [
            "/usr/local/lib/python3.9/dist-packages/sklearn/base.py:318: UserWarning: Trying to unpickle estimator KNeighborsClassifier from version 0.24.2 when using version 1.2.2. This might lead to breaking code or invalid results. Use at your own risk. For more info please refer to:\n",
            "https://scikit-learn.org/stable/model_persistence.html#security-maintainability-limitations\n",
            "  warnings.warn(\n"
          ]
        }
      ],
      "source": [
        "import joblib\n",
        "knn_clf=joblib.load('knn.pkl')  "
      ]
    },
    {
      "cell_type": "code",
      "execution_count": null,
      "metadata": {
        "id": "VBQNra5CgYxL",
        "colab": {
          "base_uri": "https://localhost:8080/"
        },
        "outputId": "8a96b5c1-faf6-4b1b-d572-97f8a5a0e353"
      },
      "outputs": [
        {
          "output_type": "execute_result",
          "data": {
            "text/plain": [
              "['itching',\n",
              " 'vomiting',\n",
              " 'fatigue',\n",
              " 'weight_loss',\n",
              " 'high_fever',\n",
              " 'yellowish_skin',\n",
              " 'dark_urine',\n",
              " 'abdominal_pain']"
            ]
          },
          "metadata": {},
          "execution_count": 86
        }
      ],
      "source": [
        "symVONdisease(df_tr,\"Jaundice\")"
      ]
    },
    {
      "cell_type": "code",
      "execution_count": null,
      "metadata": {
        "id": "muV8voL0gYxL",
        "colab": {
          "base_uri": "https://localhost:8080/"
        },
        "outputId": "0536ed67-bb04-43df-de39-5c4c5339294f"
      },
      "outputs": [
        {
          "output_type": "stream",
          "name": "stderr",
          "text": [
            "/usr/local/lib/python3.9/dist-packages/sklearn/base.py:432: UserWarning: X has feature names, but KNeighborsClassifier was fitted without feature names\n",
            "  warnings.warn(\n"
          ]
        },
        {
          "output_type": "execute_result",
          "data": {
            "text/plain": [
              "array(['Jaundice'], dtype=object)"
            ]
          },
          "metadata": {},
          "execution_count": 87
        }
      ],
      "source": [
        "knn_clf.predict(OHV(['fatigue', 'weight_loss', 'itching','high_fever'],all_symp_col))"
      ]
    },
    {
      "cell_type": "code",
      "execution_count": null,
      "metadata": {
        "id": "bvNtApy0gYxM"
      },
      "outputs": [],
      "source": [
        "d=df_tr[df_tr.iloc[:,-1]==\"Fungal infection\"].sum(axis=0)"
      ]
    },
    {
      "cell_type": "code",
      "execution_count": null,
      "metadata": {
        "id": "yA8c9sihgYxM"
      },
      "outputs": [],
      "source": [
        "cl=df_tr.columns"
      ]
    },
    {
      "cell_type": "code",
      "execution_count": null,
      "metadata": {
        "id": "sNGuK4fYgYxM"
      },
      "outputs": [],
      "source": [
        "pp=d!=0"
      ]
    },
    {
      "cell_type": "code",
      "execution_count": null,
      "metadata": {
        "id": "kn7YSohIgYxM",
        "colab": {
          "base_uri": "https://localhost:8080/"
        },
        "outputId": "a7148a63-b6cc-46b9-bd64-c9efc9ef75b3"
      },
      "outputs": [
        {
          "output_type": "execute_result",
          "data": {
            "text/plain": [
              "Index(['itching', 'skin_rash', 'nodal_skin_eruptions', 'dischromic _patches',\n",
              "       'prognosis'],\n",
              "      dtype='object')"
            ]
          },
          "metadata": {},
          "execution_count": 91
        }
      ],
      "source": [
        "cl[pp]"
      ]
    },
    {
      "cell_type": "code",
      "execution_count": null,
      "metadata": {
        "id": "-LjYpUEbgYxM",
        "colab": {
          "base_uri": "https://localhost:8080/"
        },
        "outputId": "c8589f35-1f8b-4048-f532-95b3ef3a84a0"
      },
      "outputs": [
        {
          "output_type": "execute_result",
          "data": {
            "text/plain": [
              "itching                 108\n",
              "skin_rash               108\n",
              "nodal_skin_eruptions    108\n",
              "dischromic _patches     108\n",
              "dtype: object"
            ]
          },
          "metadata": {},
          "execution_count": 92
        }
      ],
      "source": [
        "d[pp].drop('prognosis')"
      ]
    },
    {
      "cell_type": "code",
      "execution_count": null,
      "metadata": {
        "id": "eEAfOqzJgYxM",
        "scrolled": false,
        "colab": {
          "base_uri": "https://localhost:8080/"
        },
        "outputId": "f6defa9d-2061-49d2-c2ad-533b96796f86"
      },
      "outputs": [
        {
          "output_type": "error",
          "ename": "NameError",
          "evalue": "ignored",
          "traceback": [
            "\u001b[0;31m---------------------------------------------------------------------------\u001b[0m",
            "\u001b[0;31mNameError\u001b[0m                                 Traceback (most recent call last)",
            "\u001b[0;32m<ipython-input-93-e8a1b86bfa99>\u001b[0m in \u001b[0;36m<cell line: 1>\u001b[0;34m()\u001b[0m\n\u001b[0;32m----> 1\u001b[0;31m \u001b[0mytchat_sp\u001b[0m\u001b[0;34m(\u001b[0m\u001b[0;34m)\u001b[0m\u001b[0;34m\u001b[0m\u001b[0;34m\u001b[0m\u001b[0m\n\u001b[0m",
            "\u001b[0;31mNameError\u001b[0m: name 'ytchat_sp' is not defined"
          ]
        }
      ],
      "source": [
        "# ytchat_sp()"
      ]
    }
  ],
  "metadata": {
    "colab": {
      "provenance": [],
      "include_colab_link": true
    },
    "kernelspec": {
      "display_name": "Python 3 (ipykernel)",
      "language": "python",
      "name": "python3"
    },
    "language_info": {
      "codemirror_mode": {
        "name": "ipython",
        "version": 3
      },
      "file_extension": ".py",
      "mimetype": "text/x-python",
      "name": "python",
      "nbconvert_exporter": "python",
      "pygments_lexer": "ipython3",
      "version": "3.9.13"
    }
  },
  "nbformat": 4,
  "nbformat_minor": 0
}